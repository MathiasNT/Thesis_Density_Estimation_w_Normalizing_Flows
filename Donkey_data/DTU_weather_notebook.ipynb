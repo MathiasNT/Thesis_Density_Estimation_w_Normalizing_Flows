{
 "cells": [
  {
   "cell_type": "markdown",
   "metadata": {},
   "source": [
    "# DTU Weather station notebook"
   ]
  },
  {
   "cell_type": "code",
   "execution_count": 1,
   "metadata": {},
   "outputs": [],
   "source": [
    "import pandas as pd\n",
    "import os\n",
    "import numpy as np\n",
    "import matplotlib.pyplot as plt"
   ]
  },
  {
   "cell_type": "code",
   "execution_count": 2,
   "metadata": {},
   "outputs": [],
   "source": [
    "data_folder = \".\"\n",
    "file_name = \"ClimateStationData.csv\""
   ]
  },
  {
   "cell_type": "code",
   "execution_count": 3,
   "metadata": {},
   "outputs": [],
   "source": [
    "df = pd.read_csv(os.path.join(data_folder, file_name), parse_dates=[0])"
   ]
  },
  {
   "cell_type": "code",
   "execution_count": 4,
   "metadata": {},
   "outputs": [
    {
     "data": {
      "text/html": [
       "<div>\n",
       "<style scoped>\n",
       "    .dataframe tbody tr th:only-of-type {\n",
       "        vertical-align: middle;\n",
       "    }\n",
       "\n",
       "    .dataframe tbody tr th {\n",
       "        vertical-align: top;\n",
       "    }\n",
       "\n",
       "    .dataframe thead th {\n",
       "        text-align: right;\n",
       "    }\n",
       "</style>\n",
       "<table border=\"1\" class=\"dataframe\">\n",
       "  <thead>\n",
       "    <tr style=\"text-align: right;\">\n",
       "      <th></th>\n",
       "      <th>Time(utc)</th>\n",
       "      <th>GHI</th>\n",
       "      <th>DHI</th>\n",
       "      <th>DNI</th>\n",
       "      <th>LWD</th>\n",
       "      <th>wind_dir_min</th>\n",
       "      <th>wind_dir_avg</th>\n",
       "      <th>wind_dir_max</th>\n",
       "      <th>wind_speed_min</th>\n",
       "      <th>wind_speed_avg</th>\n",
       "      <th>wind_speed_max</th>\n",
       "      <th>air_temperature</th>\n",
       "      <th>relative_humidity</th>\n",
       "      <th>air_pressure</th>\n",
       "      <th>rain_accumulation</th>\n",
       "      <th>rain_duration</th>\n",
       "      <th>rain_intensity</th>\n",
       "      <th>hail_accumulation</th>\n",
       "      <th>hail_duration</th>\n",
       "      <th>hail_intensity</th>\n",
       "    </tr>\n",
       "  </thead>\n",
       "  <tbody>\n",
       "    <tr>\n",
       "      <th>0</th>\n",
       "      <td>2018-03-01 00:59:00</td>\n",
       "      <td>-0.7824</td>\n",
       "      <td>-0.6311</td>\n",
       "      <td>-0.06106</td>\n",
       "      <td>-0.06106</td>\n",
       "      <td>62.08</td>\n",
       "      <td>68.27</td>\n",
       "      <td>82.40</td>\n",
       "      <td>4.128</td>\n",
       "      <td>5.007</td>\n",
       "      <td>5.875</td>\n",
       "      <td>-7.100</td>\n",
       "      <td>63.04</td>\n",
       "      <td>1026.0</td>\n",
       "      <td>0.00</td>\n",
       "      <td>0.6667</td>\n",
       "      <td>0.0</td>\n",
       "      <td>0.0</td>\n",
       "      <td>0.0</td>\n",
       "      <td>0.0</td>\n",
       "    </tr>\n",
       "    <tr>\n",
       "      <th>1</th>\n",
       "      <td>2018-03-01 01:59:00</td>\n",
       "      <td>-0.8079</td>\n",
       "      <td>-0.6177</td>\n",
       "      <td>-0.05233</td>\n",
       "      <td>-0.05233</td>\n",
       "      <td>58.53</td>\n",
       "      <td>59.42</td>\n",
       "      <td>72.42</td>\n",
       "      <td>3.227</td>\n",
       "      <td>3.853</td>\n",
       "      <td>4.550</td>\n",
       "      <td>-6.890</td>\n",
       "      <td>62.67</td>\n",
       "      <td>1025.0</td>\n",
       "      <td>0.00</td>\n",
       "      <td>0.3333</td>\n",
       "      <td>0.0</td>\n",
       "      <td>0.0</td>\n",
       "      <td>0.0</td>\n",
       "      <td>0.0</td>\n",
       "    </tr>\n",
       "    <tr>\n",
       "      <th>2</th>\n",
       "      <td>2018-03-01 02:59:00</td>\n",
       "      <td>-0.7279</td>\n",
       "      <td>-0.5249</td>\n",
       "      <td>-0.07558</td>\n",
       "      <td>-0.07558</td>\n",
       "      <td>50.57</td>\n",
       "      <td>57.02</td>\n",
       "      <td>69.92</td>\n",
       "      <td>4.343</td>\n",
       "      <td>5.310</td>\n",
       "      <td>6.228</td>\n",
       "      <td>-6.943</td>\n",
       "      <td>64.67</td>\n",
       "      <td>1024.0</td>\n",
       "      <td>0.00</td>\n",
       "      <td>2.3330</td>\n",
       "      <td>0.0</td>\n",
       "      <td>0.0</td>\n",
       "      <td>0.0</td>\n",
       "      <td>0.0</td>\n",
       "    </tr>\n",
       "    <tr>\n",
       "      <th>3</th>\n",
       "      <td>2018-03-01 03:59:00</td>\n",
       "      <td>-0.7625</td>\n",
       "      <td>-0.5708</td>\n",
       "      <td>-0.08724</td>\n",
       "      <td>-0.08724</td>\n",
       "      <td>45.35</td>\n",
       "      <td>55.90</td>\n",
       "      <td>66.38</td>\n",
       "      <td>4.475</td>\n",
       "      <td>5.318</td>\n",
       "      <td>6.150</td>\n",
       "      <td>-7.422</td>\n",
       "      <td>68.67</td>\n",
       "      <td>1024.0</td>\n",
       "      <td>0.01</td>\n",
       "      <td>1.5000</td>\n",
       "      <td>0.0</td>\n",
       "      <td>0.0</td>\n",
       "      <td>0.0</td>\n",
       "      <td>0.0</td>\n",
       "    </tr>\n",
       "    <tr>\n",
       "      <th>4</th>\n",
       "      <td>2018-03-01 04:59:00</td>\n",
       "      <td>-0.9691</td>\n",
       "      <td>-0.7296</td>\n",
       "      <td>-0.12870</td>\n",
       "      <td>-0.12870</td>\n",
       "      <td>66.67</td>\n",
       "      <td>58.07</td>\n",
       "      <td>67.82</td>\n",
       "      <td>3.125</td>\n",
       "      <td>3.933</td>\n",
       "      <td>4.758</td>\n",
       "      <td>-7.898</td>\n",
       "      <td>69.88</td>\n",
       "      <td>1023.0</td>\n",
       "      <td>0.00</td>\n",
       "      <td>0.8333</td>\n",
       "      <td>0.0</td>\n",
       "      <td>0.0</td>\n",
       "      <td>0.0</td>\n",
       "      <td>0.0</td>\n",
       "    </tr>\n",
       "    <tr>\n",
       "      <th>...</th>\n",
       "      <td>...</td>\n",
       "      <td>...</td>\n",
       "      <td>...</td>\n",
       "      <td>...</td>\n",
       "      <td>...</td>\n",
       "      <td>...</td>\n",
       "      <td>...</td>\n",
       "      <td>...</td>\n",
       "      <td>...</td>\n",
       "      <td>...</td>\n",
       "      <td>...</td>\n",
       "      <td>...</td>\n",
       "      <td>...</td>\n",
       "      <td>...</td>\n",
       "      <td>...</td>\n",
       "      <td>...</td>\n",
       "      <td>...</td>\n",
       "      <td>...</td>\n",
       "      <td>...</td>\n",
       "      <td>...</td>\n",
       "    </tr>\n",
       "    <tr>\n",
       "      <th>9235</th>\n",
       "      <td>2019-03-20 19:59:00</td>\n",
       "      <td>-2.1090</td>\n",
       "      <td>-2.1980</td>\n",
       "      <td>-0.71480</td>\n",
       "      <td>269.70000</td>\n",
       "      <td>259.60</td>\n",
       "      <td>271.60</td>\n",
       "      <td>281.70</td>\n",
       "      <td>1.788</td>\n",
       "      <td>2.172</td>\n",
       "      <td>2.518</td>\n",
       "      <td>6.898</td>\n",
       "      <td>89.26</td>\n",
       "      <td>1022.0</td>\n",
       "      <td>0.00</td>\n",
       "      <td>0.0000</td>\n",
       "      <td>0.0</td>\n",
       "      <td>0.0</td>\n",
       "      <td>0.0</td>\n",
       "      <td>0.0</td>\n",
       "    </tr>\n",
       "    <tr>\n",
       "      <th>9236</th>\n",
       "      <td>2019-03-20 20:59:00</td>\n",
       "      <td>-1.2170</td>\n",
       "      <td>-1.2990</td>\n",
       "      <td>-0.42830</td>\n",
       "      <td>301.10000</td>\n",
       "      <td>261.60</td>\n",
       "      <td>274.00</td>\n",
       "      <td>285.50</td>\n",
       "      <td>1.818</td>\n",
       "      <td>2.187</td>\n",
       "      <td>2.587</td>\n",
       "      <td>6.580</td>\n",
       "      <td>90.70</td>\n",
       "      <td>1022.0</td>\n",
       "      <td>0.00</td>\n",
       "      <td>0.0000</td>\n",
       "      <td>0.0</td>\n",
       "      <td>0.0</td>\n",
       "      <td>0.0</td>\n",
       "      <td>0.0</td>\n",
       "    </tr>\n",
       "    <tr>\n",
       "      <th>9237</th>\n",
       "      <td>2019-03-20 21:59:00</td>\n",
       "      <td>-1.0540</td>\n",
       "      <td>-1.0980</td>\n",
       "      <td>-0.37440</td>\n",
       "      <td>307.50000</td>\n",
       "      <td>253.10</td>\n",
       "      <td>265.20</td>\n",
       "      <td>277.50</td>\n",
       "      <td>2.313</td>\n",
       "      <td>2.837</td>\n",
       "      <td>3.332</td>\n",
       "      <td>6.375</td>\n",
       "      <td>90.95</td>\n",
       "      <td>1023.0</td>\n",
       "      <td>0.00</td>\n",
       "      <td>0.0000</td>\n",
       "      <td>0.0</td>\n",
       "      <td>0.0</td>\n",
       "      <td>0.0</td>\n",
       "      <td>0.0</td>\n",
       "    </tr>\n",
       "    <tr>\n",
       "      <th>9238</th>\n",
       "      <td>2019-03-20 22:59:00</td>\n",
       "      <td>-0.4087</td>\n",
       "      <td>-0.4064</td>\n",
       "      <td>0.01380</td>\n",
       "      <td>339.90000</td>\n",
       "      <td>249.20</td>\n",
       "      <td>257.50</td>\n",
       "      <td>265.90</td>\n",
       "      <td>2.695</td>\n",
       "      <td>3.117</td>\n",
       "      <td>3.560</td>\n",
       "      <td>6.328</td>\n",
       "      <td>91.29</td>\n",
       "      <td>1023.0</td>\n",
       "      <td>0.00</td>\n",
       "      <td>0.0000</td>\n",
       "      <td>0.0</td>\n",
       "      <td>0.0</td>\n",
       "      <td>0.0</td>\n",
       "      <td>0.0</td>\n",
       "    </tr>\n",
       "    <tr>\n",
       "      <th>9239</th>\n",
       "      <td>2019-03-20 23:59:00</td>\n",
       "      <td>-0.4913</td>\n",
       "      <td>-0.4883</td>\n",
       "      <td>-0.06306</td>\n",
       "      <td>333.20000</td>\n",
       "      <td>245.80</td>\n",
       "      <td>254.40</td>\n",
       "      <td>263.00</td>\n",
       "      <td>2.357</td>\n",
       "      <td>2.722</td>\n",
       "      <td>3.107</td>\n",
       "      <td>6.253</td>\n",
       "      <td>91.32</td>\n",
       "      <td>1023.0</td>\n",
       "      <td>0.00</td>\n",
       "      <td>0.0000</td>\n",
       "      <td>0.0</td>\n",
       "      <td>0.0</td>\n",
       "      <td>0.0</td>\n",
       "      <td>0.0</td>\n",
       "    </tr>\n",
       "  </tbody>\n",
       "</table>\n",
       "<p>9240 rows × 20 columns</p>\n",
       "</div>"
      ],
      "text/plain": [
       "               Time(utc)     GHI     DHI      DNI        LWD  wind_dir_min  \\\n",
       "0    2018-03-01 00:59:00 -0.7824 -0.6311 -0.06106   -0.06106         62.08   \n",
       "1    2018-03-01 01:59:00 -0.8079 -0.6177 -0.05233   -0.05233         58.53   \n",
       "2    2018-03-01 02:59:00 -0.7279 -0.5249 -0.07558   -0.07558         50.57   \n",
       "3    2018-03-01 03:59:00 -0.7625 -0.5708 -0.08724   -0.08724         45.35   \n",
       "4    2018-03-01 04:59:00 -0.9691 -0.7296 -0.12870   -0.12870         66.67   \n",
       "...                  ...     ...     ...      ...        ...           ...   \n",
       "9235 2019-03-20 19:59:00 -2.1090 -2.1980 -0.71480  269.70000        259.60   \n",
       "9236 2019-03-20 20:59:00 -1.2170 -1.2990 -0.42830  301.10000        261.60   \n",
       "9237 2019-03-20 21:59:00 -1.0540 -1.0980 -0.37440  307.50000        253.10   \n",
       "9238 2019-03-20 22:59:00 -0.4087 -0.4064  0.01380  339.90000        249.20   \n",
       "9239 2019-03-20 23:59:00 -0.4913 -0.4883 -0.06306  333.20000        245.80   \n",
       "\n",
       "      wind_dir_avg  wind_dir_max  wind_speed_min  wind_speed_avg  \\\n",
       "0            68.27         82.40           4.128           5.007   \n",
       "1            59.42         72.42           3.227           3.853   \n",
       "2            57.02         69.92           4.343           5.310   \n",
       "3            55.90         66.38           4.475           5.318   \n",
       "4            58.07         67.82           3.125           3.933   \n",
       "...            ...           ...             ...             ...   \n",
       "9235        271.60        281.70           1.788           2.172   \n",
       "9236        274.00        285.50           1.818           2.187   \n",
       "9237        265.20        277.50           2.313           2.837   \n",
       "9238        257.50        265.90           2.695           3.117   \n",
       "9239        254.40        263.00           2.357           2.722   \n",
       "\n",
       "      wind_speed_max  air_temperature  relative_humidity  air_pressure  \\\n",
       "0              5.875           -7.100              63.04        1026.0   \n",
       "1              4.550           -6.890              62.67        1025.0   \n",
       "2              6.228           -6.943              64.67        1024.0   \n",
       "3              6.150           -7.422              68.67        1024.0   \n",
       "4              4.758           -7.898              69.88        1023.0   \n",
       "...              ...              ...                ...           ...   \n",
       "9235           2.518            6.898              89.26        1022.0   \n",
       "9236           2.587            6.580              90.70        1022.0   \n",
       "9237           3.332            6.375              90.95        1023.0   \n",
       "9238           3.560            6.328              91.29        1023.0   \n",
       "9239           3.107            6.253              91.32        1023.0   \n",
       "\n",
       "      rain_accumulation  rain_duration  rain_intensity  hail_accumulation  \\\n",
       "0                  0.00         0.6667             0.0                0.0   \n",
       "1                  0.00         0.3333             0.0                0.0   \n",
       "2                  0.00         2.3330             0.0                0.0   \n",
       "3                  0.01         1.5000             0.0                0.0   \n",
       "4                  0.00         0.8333             0.0                0.0   \n",
       "...                 ...            ...             ...                ...   \n",
       "9235               0.00         0.0000             0.0                0.0   \n",
       "9236               0.00         0.0000             0.0                0.0   \n",
       "9237               0.00         0.0000             0.0                0.0   \n",
       "9238               0.00         0.0000             0.0                0.0   \n",
       "9239               0.00         0.0000             0.0                0.0   \n",
       "\n",
       "      hail_duration  hail_intensity  \n",
       "0               0.0             0.0  \n",
       "1               0.0             0.0  \n",
       "2               0.0             0.0  \n",
       "3               0.0             0.0  \n",
       "4               0.0             0.0  \n",
       "...             ...             ...  \n",
       "9235            0.0             0.0  \n",
       "9236            0.0             0.0  \n",
       "9237            0.0             0.0  \n",
       "9238            0.0             0.0  \n",
       "9239            0.0             0.0  \n",
       "\n",
       "[9240 rows x 20 columns]"
      ]
     },
     "execution_count": 4,
     "metadata": {},
     "output_type": "execute_result"
    }
   ],
   "source": [
    "df"
   ]
  },
  {
   "cell_type": "markdown",
   "metadata": {},
   "source": [
    "# Data analysis stuff"
   ]
  },
  {
   "cell_type": "markdown",
   "metadata": {},
   "source": [
    "## Temperature"
   ]
  },
  {
   "cell_type": "code",
   "execution_count": 5,
   "metadata": {},
   "outputs": [
    {
     "data": {
      "text/plain": [
       "538.1"
      ]
     },
     "execution_count": 5,
     "metadata": {},
     "output_type": "execute_result"
    }
   ],
   "source": [
    "df.air_temperature.max()"
   ]
  },
  {
   "cell_type": "code",
   "execution_count": 6,
   "metadata": {},
   "outputs": [
    {
     "data": {
      "text/plain": [
       "<matplotlib.axes._subplots.AxesSubplot at 0x7f9d73844860>"
      ]
     },
     "execution_count": 6,
     "metadata": {},
     "output_type": "execute_result"
    },
    {
     "data": {
      "image/png": "[encoded data removed]",
      "text/plain": [
       "<Figure size 432x288 with 1 Axes>"
      ]
     },
     "metadata": {
      "needs_background": "light"
     },
     "output_type": "display_data"
    }
   ],
   "source": [
    "df.air_temperature.plot(kind='hist', bins = 100)\n"
   ]
  },
  {
   "cell_type": "markdown",
   "metadata": {},
   "source": [
    "So clearly we have some outliers that needs cleaning up.\n",
    "The highest measured temperature in DK is 36.4 Celsius (https://www.dmi.dk/vejrarkiv/vejrekstremer-danmark/ or https://en.wikipedia.org/wiki/List_of_extreme_temperatures_in_Denmark)\n",
    "Hence i choose to see temperatures over 40 Celsius to be erros and look into replcing these values."
   ]
  },
  {
   "cell_type": "code",
   "execution_count": 7,
   "metadata": {},
   "outputs": [],
   "source": [
    "temp_idx = df.air_temperature[df.air_temperature > 40].index\n",
    "shifted_temp_idx1 = temp_idx[:-1]\n",
    "shifted_temp_idx2 = temp_idx[1:]\n",
    "split_idx = (shifted_temp_idx1+1 != shifted_temp_idx2).nonzero()[0]\n",
    "split_idx_arrs = np.split(ary=temp_idx, indices_or_sections = split_idx+1)"
   ]
  },
  {
   "cell_type": "code",
   "execution_count": 8,
   "metadata": {},
   "outputs": [
    {
     "data": {
      "text/plain": [
       "266"
      ]
     },
     "execution_count": 8,
     "metadata": {},
     "output_type": "execute_result"
    }
   ],
   "source": [
    "len(temp_idx)"
   ]
  },
  {
   "cell_type": "code",
   "execution_count": 9,
   "metadata": {
    "scrolled": true
   },
   "outputs": [
    {
     "data": {
      "text/plain": [
       "[Int64Index([1517, 1518, 1519, 1520, 1521, 1522, 1523, 1524, 1525, 1526, 1527,\n",
       "             1528, 1529],\n",
       "            dtype='int64'),\n",
       " Int64Index([1541, 1542, 1543, 1544, 1545, 1546, 1547, 1548, 1549, 1550, 1551,\n",
       "             1552],\n",
       "            dtype='int64'),\n",
       " Int64Index([1564, 1565, 1566, 1567, 1568, 1569, 1570, 1571, 1572, 1573, 1574,\n",
       "             1575, 1576],\n",
       "            dtype='int64'),\n",
       " Int64Index([1588, 1589, 1590, 1591, 1592, 1593, 1594, 1595, 1596, 1597, 1598,\n",
       "             1599, 1600, 1601],\n",
       "            dtype='int64'),\n",
       " Int64Index([1613, 1614, 1615, 1616, 1617, 1618, 1619, 1620, 1621, 1622, 1623,\n",
       "             1624],\n",
       "            dtype='int64'),\n",
       " Int64Index([1661, 1662, 1663, 1664, 1665, 1666, 1667, 1668, 1669, 1670, 1671,\n",
       "             1672],\n",
       "            dtype='int64'),\n",
       " Int64Index([1684, 1685, 1686, 1687, 1688, 1689, 1690, 1691, 1692, 1693, 1694,\n",
       "             1695, 1696, 1697],\n",
       "            dtype='int64'),\n",
       " Int64Index([1708, 1709, 1710, 1711, 1712, 1713, 1714, 1715, 1716, 1717, 1718,\n",
       "             1719, 1720, 1721],\n",
       "            dtype='int64'),\n",
       " Int64Index([1732, 1733, 1734, 1735, 1736, 1737, 1738, 1739, 1740, 1741, 1742,\n",
       "             1743, 1744, 1745],\n",
       "            dtype='int64'),\n",
       " Int64Index([1756, 1757, 1758, 1759, 1760, 1761, 1762, 1763, 1764, 1765, 1766,\n",
       "             1767, 1768, 1769],\n",
       "            dtype='int64'),\n",
       " Int64Index([1780, 1781, 1782, 1783, 1784, 1785, 1786, 1787, 1788, 1789, 1790,\n",
       "             1791, 1792, 1793],\n",
       "            dtype='int64'),\n",
       " Int64Index([1804, 1805, 1806, 1807, 1808, 1809, 1810, 1811, 1812, 1813, 1814,\n",
       "             1815, 1816, 1817],\n",
       "            dtype='int64'),\n",
       " Int64Index([1828, 1829, 1830, 1831, 1832, 1833, 1834, 1835, 1836, 1837, 1838,\n",
       "             1839, 1840, 1841],\n",
       "            dtype='int64'),\n",
       " Int64Index([1852, 1853, 1854, 1855, 1856, 1857, 1858, 1859, 1860, 1861, 1862,\n",
       "             1863, 1864, 1865, 1866],\n",
       "            dtype='int64'),\n",
       " Int64Index([1876, 1877, 1878, 1879, 1880, 1881, 1882, 1883, 1884, 1885, 1886,\n",
       "             1887, 1888, 1889],\n",
       "            dtype='int64'),\n",
       " Int64Index([1900, 1901, 1902, 1903, 1904, 1905, 1906, 1907, 1908, 1909, 1910,\n",
       "             1911, 1912, 1913],\n",
       "            dtype='int64'),\n",
       " Int64Index([1924, 1925, 1926, 1927, 1928, 1929, 1930, 1931, 1932, 1933, 1934,\n",
       "             1935, 1936, 1937],\n",
       "            dtype='int64'),\n",
       " Int64Index([1948, 1949, 1950, 1951, 1952, 1953, 1954, 1955, 1956, 1957, 1958,\n",
       "             1959, 1960, 1961],\n",
       "            dtype='int64'),\n",
       " Int64Index([1972, 1973, 1974, 1975, 1976, 1977, 1978, 1979, 1980, 1981, 1982,\n",
       "             1983, 1984, 1985],\n",
       "            dtype='int64'),\n",
       " Int64Index([1996, 1997, 1998, 1999], dtype='int64'),\n",
       " Int64Index([6009, 6010, 6011], dtype='int64')]"
      ]
     },
     "execution_count": 9,
     "metadata": {},
     "output_type": "execute_result"
    }
   ],
   "source": [
    "split_idx_arrs"
   ]
  },
  {
   "cell_type": "markdown",
   "metadata": {},
   "source": [
    "So as can be seen we have 266 error temperatures and most of the errors happen between index 1517 and 1999. Most of the errors comes in sequences of ~12 faulty measurements. This seems like a systematic measurement mistake. This means that we have no good data to extrapolate from around around most of the errors. Hence it would require a model to infer these missing values. As we are only talking about 266 I will remove them for now."
   ]
  },
  {
   "cell_type": "code",
   "execution_count": 10,
   "metadata": {},
   "outputs": [
    {
     "name": "stderr",
     "output_type": "stream",
     "text": [
      "/home/mathias/Dropbox/Uni/Speciale/code/nf-env/lib/python3.6/site-packages/pandas/core/indexing.py:670: SettingWithCopyWarning: \n",
      "A value is trying to be set on a copy of a slice from a DataFrame\n",
      "\n",
      "See the caveats in the documentation: https://pandas.pydata.org/pandas-docs/stable/user_guide/indexing.html#returning-a-view-versus-a-copy\n",
      "  self._setitem_with_indexer(indexer, value)\n"
     ]
    }
   ],
   "source": [
    "df.air_temperature.iloc[temp_idx] = np.NaN"
   ]
  },
  {
   "cell_type": "code",
   "execution_count": 11,
   "metadata": {},
   "outputs": [
    {
     "data": {
      "text/plain": [
       "<matplotlib.axes._subplots.AxesSubplot at 0x7f9d716304a8>"
      ]
     },
     "execution_count": 11,
     "metadata": {},
     "output_type": "execute_result"
    },
    {
     "data": {
      "image/png": "[encoded data removed]",
      "text/plain": [
       "<Figure size 432x288 with 1 Axes>"
      ]
     },
     "metadata": {
      "needs_background": "light"
     },
     "output_type": "display_data"
    }
   ],
   "source": [
    "df.air_temperature.plot(kind='hist', bins = 100)\n"
   ]
  },
  {
   "cell_type": "markdown",
   "metadata": {},
   "source": [
    "## Wind dir"
   ]
  },
  {
   "cell_type": "markdown",
   "metadata": {},
   "source": [
    "The wind direction is given in degrees. Hence it can't be over 360 or less than 0"
   ]
  },
  {
   "cell_type": "code",
   "execution_count": 12,
   "metadata": {},
   "outputs": [
    {
     "data": {
      "text/plain": [
       "<matplotlib.axes._subplots.AxesSubplot at 0x7f9d70dc8ba8>"
      ]
     },
     "execution_count": 12,
     "metadata": {},
     "output_type": "execute_result"
    },
    {
     "data": {
      "image/png": "[encoded data removed]",
      "text/plain": [
       "<Figure size 432x288 with 1 Axes>"
      ]
     },
     "metadata": {
      "needs_background": "light"
     },
     "output_type": "display_data"
    }
   ],
   "source": [
    "df.wind_dir_avg.plot(kind='hist', bins=100)"
   ]
  },
  {
   "cell_type": "code",
   "execution_count": 13,
   "metadata": {
    "scrolled": true
   },
   "outputs": [
    {
     "data": {
      "text/html": [
       "<div>\n",
       "<style scoped>\n",
       "    .dataframe tbody tr th:only-of-type {\n",
       "        vertical-align: middle;\n",
       "    }\n",
       "\n",
       "    .dataframe tbody tr th {\n",
       "        vertical-align: top;\n",
       "    }\n",
       "\n",
       "    .dataframe thead th {\n",
       "        text-align: right;\n",
       "    }\n",
       "</style>\n",
       "<table border=\"1\" class=\"dataframe\">\n",
       "  <thead>\n",
       "    <tr style=\"text-align: right;\">\n",
       "      <th></th>\n",
       "      <th>Time(utc)</th>\n",
       "      <th>GHI</th>\n",
       "      <th>DHI</th>\n",
       "      <th>DNI</th>\n",
       "      <th>LWD</th>\n",
       "      <th>wind_dir_min</th>\n",
       "      <th>wind_dir_avg</th>\n",
       "      <th>wind_dir_max</th>\n",
       "      <th>wind_speed_min</th>\n",
       "      <th>wind_speed_avg</th>\n",
       "      <th>wind_speed_max</th>\n",
       "      <th>air_temperature</th>\n",
       "      <th>relative_humidity</th>\n",
       "      <th>air_pressure</th>\n",
       "      <th>rain_accumulation</th>\n",
       "      <th>rain_duration</th>\n",
       "      <th>rain_intensity</th>\n",
       "      <th>hail_accumulation</th>\n",
       "      <th>hail_duration</th>\n",
       "      <th>hail_intensity</th>\n",
       "    </tr>\n",
       "  </thead>\n",
       "  <tbody>\n",
       "    <tr>\n",
       "      <th>1523</th>\n",
       "      <td>2018-05-03 11:59:00</td>\n",
       "      <td>630.8</td>\n",
       "      <td>397.80</td>\n",
       "      <td>397.8</td>\n",
       "      <td>397.8</td>\n",
       "      <td>397.8</td>\n",
       "      <td>397.8</td>\n",
       "      <td>397.8</td>\n",
       "      <td>397.8</td>\n",
       "      <td>397.8</td>\n",
       "      <td>397.8</td>\n",
       "      <td>NaN</td>\n",
       "      <td>397.8</td>\n",
       "      <td>397.8</td>\n",
       "      <td>23870.0</td>\n",
       "      <td>397.8</td>\n",
       "      <td>397.8</td>\n",
       "      <td>23870.0</td>\n",
       "      <td>397.8</td>\n",
       "      <td>397.8</td>\n",
       "    </tr>\n",
       "    <tr>\n",
       "      <th>1545</th>\n",
       "      <td>2018-05-04 09:59:00</td>\n",
       "      <td>494.1</td>\n",
       "      <td>377.40</td>\n",
       "      <td>377.4</td>\n",
       "      <td>377.4</td>\n",
       "      <td>377.4</td>\n",
       "      <td>377.4</td>\n",
       "      <td>377.4</td>\n",
       "      <td>377.4</td>\n",
       "      <td>377.4</td>\n",
       "      <td>377.4</td>\n",
       "      <td>NaN</td>\n",
       "      <td>377.4</td>\n",
       "      <td>377.4</td>\n",
       "      <td>22640.0</td>\n",
       "      <td>377.4</td>\n",
       "      <td>377.4</td>\n",
       "      <td>22640.0</td>\n",
       "      <td>377.4</td>\n",
       "      <td>377.4</td>\n",
       "    </tr>\n",
       "    <tr>\n",
       "      <th>1546</th>\n",
       "      <td>2018-05-04 10:59:00</td>\n",
       "      <td>366.9</td>\n",
       "      <td>360.20</td>\n",
       "      <td>360.2</td>\n",
       "      <td>360.2</td>\n",
       "      <td>360.2</td>\n",
       "      <td>360.2</td>\n",
       "      <td>360.2</td>\n",
       "      <td>360.2</td>\n",
       "      <td>360.2</td>\n",
       "      <td>360.2</td>\n",
       "      <td>NaN</td>\n",
       "      <td>360.2</td>\n",
       "      <td>360.2</td>\n",
       "      <td>21610.0</td>\n",
       "      <td>360.2</td>\n",
       "      <td>360.2</td>\n",
       "      <td>21610.0</td>\n",
       "      <td>360.2</td>\n",
       "      <td>360.2</td>\n",
       "    </tr>\n",
       "    <tr>\n",
       "      <th>1711</th>\n",
       "      <td>2018-05-11 07:59:00</td>\n",
       "      <td>494.7</td>\n",
       "      <td>364.90</td>\n",
       "      <td>364.9</td>\n",
       "      <td>364.9</td>\n",
       "      <td>364.9</td>\n",
       "      <td>364.9</td>\n",
       "      <td>364.9</td>\n",
       "      <td>364.9</td>\n",
       "      <td>364.9</td>\n",
       "      <td>364.9</td>\n",
       "      <td>NaN</td>\n",
       "      <td>364.9</td>\n",
       "      <td>364.9</td>\n",
       "      <td>21890.0</td>\n",
       "      <td>364.9</td>\n",
       "      <td>364.9</td>\n",
       "      <td>21890.0</td>\n",
       "      <td>364.9</td>\n",
       "      <td>364.9</td>\n",
       "    </tr>\n",
       "    <tr>\n",
       "      <th>1713</th>\n",
       "      <td>2018-05-11 09:59:00</td>\n",
       "      <td>612.6</td>\n",
       "      <td>383.70</td>\n",
       "      <td>383.7</td>\n",
       "      <td>383.7</td>\n",
       "      <td>383.7</td>\n",
       "      <td>383.7</td>\n",
       "      <td>383.7</td>\n",
       "      <td>383.7</td>\n",
       "      <td>383.7</td>\n",
       "      <td>383.7</td>\n",
       "      <td>NaN</td>\n",
       "      <td>383.7</td>\n",
       "      <td>383.7</td>\n",
       "      <td>23020.0</td>\n",
       "      <td>383.7</td>\n",
       "      <td>383.7</td>\n",
       "      <td>23020.0</td>\n",
       "      <td>383.7</td>\n",
       "      <td>383.7</td>\n",
       "    </tr>\n",
       "    <tr>\n",
       "      <th>1714</th>\n",
       "      <td>2018-05-11 10:59:00</td>\n",
       "      <td>613.3</td>\n",
       "      <td>525.40</td>\n",
       "      <td>525.4</td>\n",
       "      <td>525.4</td>\n",
       "      <td>525.4</td>\n",
       "      <td>525.4</td>\n",
       "      <td>525.4</td>\n",
       "      <td>525.4</td>\n",
       "      <td>525.4</td>\n",
       "      <td>525.4</td>\n",
       "      <td>NaN</td>\n",
       "      <td>525.4</td>\n",
       "      <td>525.4</td>\n",
       "      <td>31520.0</td>\n",
       "      <td>525.4</td>\n",
       "      <td>525.4</td>\n",
       "      <td>31520.0</td>\n",
       "      <td>525.4</td>\n",
       "      <td>525.4</td>\n",
       "    </tr>\n",
       "    <tr>\n",
       "      <th>1715</th>\n",
       "      <td>2018-05-11 11:59:00</td>\n",
       "      <td>421.2</td>\n",
       "      <td>415.40</td>\n",
       "      <td>415.4</td>\n",
       "      <td>415.4</td>\n",
       "      <td>415.4</td>\n",
       "      <td>415.4</td>\n",
       "      <td>415.4</td>\n",
       "      <td>415.4</td>\n",
       "      <td>415.4</td>\n",
       "      <td>415.4</td>\n",
       "      <td>NaN</td>\n",
       "      <td>415.4</td>\n",
       "      <td>415.4</td>\n",
       "      <td>24930.0</td>\n",
       "      <td>415.4</td>\n",
       "      <td>415.4</td>\n",
       "      <td>24930.0</td>\n",
       "      <td>415.4</td>\n",
       "      <td>415.4</td>\n",
       "    </tr>\n",
       "    <tr>\n",
       "      <th>1716</th>\n",
       "      <td>2018-05-11 12:59:00</td>\n",
       "      <td>438.9</td>\n",
       "      <td>435.10</td>\n",
       "      <td>435.1</td>\n",
       "      <td>435.1</td>\n",
       "      <td>435.1</td>\n",
       "      <td>435.1</td>\n",
       "      <td>435.1</td>\n",
       "      <td>435.1</td>\n",
       "      <td>435.1</td>\n",
       "      <td>435.1</td>\n",
       "      <td>NaN</td>\n",
       "      <td>435.1</td>\n",
       "      <td>435.1</td>\n",
       "      <td>26100.0</td>\n",
       "      <td>435.1</td>\n",
       "      <td>435.1</td>\n",
       "      <td>26100.0</td>\n",
       "      <td>435.1</td>\n",
       "      <td>435.1</td>\n",
       "    </tr>\n",
       "    <tr>\n",
       "      <th>1717</th>\n",
       "      <td>2018-05-11 13:59:00</td>\n",
       "      <td>456.2</td>\n",
       "      <td>413.30</td>\n",
       "      <td>413.3</td>\n",
       "      <td>413.3</td>\n",
       "      <td>413.3</td>\n",
       "      <td>413.3</td>\n",
       "      <td>413.3</td>\n",
       "      <td>413.3</td>\n",
       "      <td>413.3</td>\n",
       "      <td>413.3</td>\n",
       "      <td>NaN</td>\n",
       "      <td>413.3</td>\n",
       "      <td>413.3</td>\n",
       "      <td>24800.0</td>\n",
       "      <td>413.3</td>\n",
       "      <td>413.3</td>\n",
       "      <td>24800.0</td>\n",
       "      <td>413.3</td>\n",
       "      <td>413.3</td>\n",
       "    </tr>\n",
       "    <tr>\n",
       "      <th>1739</th>\n",
       "      <td>2018-05-12 11:59:00</td>\n",
       "      <td>628.0</td>\n",
       "      <td>377.00</td>\n",
       "      <td>377.0</td>\n",
       "      <td>377.0</td>\n",
       "      <td>377.0</td>\n",
       "      <td>377.0</td>\n",
       "      <td>377.0</td>\n",
       "      <td>377.0</td>\n",
       "      <td>377.0</td>\n",
       "      <td>377.0</td>\n",
       "      <td>NaN</td>\n",
       "      <td>377.0</td>\n",
       "      <td>377.0</td>\n",
       "      <td>22620.0</td>\n",
       "      <td>377.0</td>\n",
       "      <td>377.0</td>\n",
       "      <td>22620.0</td>\n",
       "      <td>377.0</td>\n",
       "      <td>377.0</td>\n",
       "    </tr>\n",
       "    <tr>\n",
       "      <th>1740</th>\n",
       "      <td>2018-05-12 12:59:00</td>\n",
       "      <td>450.2</td>\n",
       "      <td>460.30</td>\n",
       "      <td>460.3</td>\n",
       "      <td>460.3</td>\n",
       "      <td>460.3</td>\n",
       "      <td>460.3</td>\n",
       "      <td>460.3</td>\n",
       "      <td>460.3</td>\n",
       "      <td>460.3</td>\n",
       "      <td>460.3</td>\n",
       "      <td>NaN</td>\n",
       "      <td>460.3</td>\n",
       "      <td>460.3</td>\n",
       "      <td>27620.0</td>\n",
       "      <td>460.3</td>\n",
       "      <td>460.3</td>\n",
       "      <td>27620.0</td>\n",
       "      <td>460.3</td>\n",
       "      <td>460.3</td>\n",
       "    </tr>\n",
       "    <tr>\n",
       "      <th>1905</th>\n",
       "      <td>2018-05-19 09:59:00</td>\n",
       "      <td>589.1</td>\n",
       "      <td>427.70</td>\n",
       "      <td>427.7</td>\n",
       "      <td>427.7</td>\n",
       "      <td>427.7</td>\n",
       "      <td>427.7</td>\n",
       "      <td>427.7</td>\n",
       "      <td>427.7</td>\n",
       "      <td>427.7</td>\n",
       "      <td>427.7</td>\n",
       "      <td>NaN</td>\n",
       "      <td>427.7</td>\n",
       "      <td>427.7</td>\n",
       "      <td>25660.0</td>\n",
       "      <td>427.7</td>\n",
       "      <td>427.7</td>\n",
       "      <td>25660.0</td>\n",
       "      <td>427.7</td>\n",
       "      <td>427.7</td>\n",
       "    </tr>\n",
       "    <tr>\n",
       "      <th>1906</th>\n",
       "      <td>2018-05-19 10:59:00</td>\n",
       "      <td>593.5</td>\n",
       "      <td>379.00</td>\n",
       "      <td>379.0</td>\n",
       "      <td>379.0</td>\n",
       "      <td>379.0</td>\n",
       "      <td>379.0</td>\n",
       "      <td>379.0</td>\n",
       "      <td>379.0</td>\n",
       "      <td>379.0</td>\n",
       "      <td>379.0</td>\n",
       "      <td>NaN</td>\n",
       "      <td>379.0</td>\n",
       "      <td>379.0</td>\n",
       "      <td>22740.0</td>\n",
       "      <td>379.0</td>\n",
       "      <td>379.0</td>\n",
       "      <td>22740.0</td>\n",
       "      <td>379.0</td>\n",
       "      <td>379.0</td>\n",
       "    </tr>\n",
       "    <tr>\n",
       "      <th>1953</th>\n",
       "      <td>2018-05-21 09:59:00</td>\n",
       "      <td>530.1</td>\n",
       "      <td>400.30</td>\n",
       "      <td>400.3</td>\n",
       "      <td>400.3</td>\n",
       "      <td>400.3</td>\n",
       "      <td>400.3</td>\n",
       "      <td>400.3</td>\n",
       "      <td>400.3</td>\n",
       "      <td>400.3</td>\n",
       "      <td>400.3</td>\n",
       "      <td>NaN</td>\n",
       "      <td>400.3</td>\n",
       "      <td>400.3</td>\n",
       "      <td>24020.0</td>\n",
       "      <td>400.3</td>\n",
       "      <td>400.3</td>\n",
       "      <td>24020.0</td>\n",
       "      <td>400.3</td>\n",
       "      <td>400.3</td>\n",
       "    </tr>\n",
       "    <tr>\n",
       "      <th>1954</th>\n",
       "      <td>2018-05-21 10:59:00</td>\n",
       "      <td>542.0</td>\n",
       "      <td>431.60</td>\n",
       "      <td>431.6</td>\n",
       "      <td>431.6</td>\n",
       "      <td>431.6</td>\n",
       "      <td>431.6</td>\n",
       "      <td>431.6</td>\n",
       "      <td>431.6</td>\n",
       "      <td>431.6</td>\n",
       "      <td>431.6</td>\n",
       "      <td>NaN</td>\n",
       "      <td>431.6</td>\n",
       "      <td>431.6</td>\n",
       "      <td>25900.0</td>\n",
       "      <td>431.6</td>\n",
       "      <td>431.6</td>\n",
       "      <td>25900.0</td>\n",
       "      <td>431.6</td>\n",
       "      <td>431.6</td>\n",
       "    </tr>\n",
       "    <tr>\n",
       "      <th>1955</th>\n",
       "      <td>2018-05-21 11:59:00</td>\n",
       "      <td>556.8</td>\n",
       "      <td>445.30</td>\n",
       "      <td>445.3</td>\n",
       "      <td>445.3</td>\n",
       "      <td>445.3</td>\n",
       "      <td>445.3</td>\n",
       "      <td>445.3</td>\n",
       "      <td>445.3</td>\n",
       "      <td>445.3</td>\n",
       "      <td>445.3</td>\n",
       "      <td>NaN</td>\n",
       "      <td>445.3</td>\n",
       "      <td>445.3</td>\n",
       "      <td>26720.0</td>\n",
       "      <td>445.3</td>\n",
       "      <td>445.3</td>\n",
       "      <td>26720.0</td>\n",
       "      <td>445.3</td>\n",
       "      <td>445.3</td>\n",
       "    </tr>\n",
       "    <tr>\n",
       "      <th>1956</th>\n",
       "      <td>2018-05-21 12:59:00</td>\n",
       "      <td>589.0</td>\n",
       "      <td>370.20</td>\n",
       "      <td>370.2</td>\n",
       "      <td>370.2</td>\n",
       "      <td>370.2</td>\n",
       "      <td>370.2</td>\n",
       "      <td>370.2</td>\n",
       "      <td>370.2</td>\n",
       "      <td>370.2</td>\n",
       "      <td>370.2</td>\n",
       "      <td>NaN</td>\n",
       "      <td>370.2</td>\n",
       "      <td>370.2</td>\n",
       "      <td>22210.0</td>\n",
       "      <td>370.2</td>\n",
       "      <td>370.2</td>\n",
       "      <td>22210.0</td>\n",
       "      <td>370.2</td>\n",
       "      <td>370.2</td>\n",
       "    </tr>\n",
       "    <tr>\n",
       "      <th>6009</th>\n",
       "      <td>2018-11-06 09:59:00</td>\n",
       "      <td>205.1</td>\n",
       "      <td>80.73</td>\n",
       "      <td>465.5</td>\n",
       "      <td>465.5</td>\n",
       "      <td>375.3</td>\n",
       "      <td>387.1</td>\n",
       "      <td>398.1</td>\n",
       "      <td>240.5</td>\n",
       "      <td>240.7</td>\n",
       "      <td>241.0</td>\n",
       "      <td>NaN</td>\n",
       "      <td>280.9</td>\n",
       "      <td>758.5</td>\n",
       "      <td>14390.0</td>\n",
       "      <td>239.8</td>\n",
       "      <td>239.8</td>\n",
       "      <td>14390.0</td>\n",
       "      <td>239.8</td>\n",
       "      <td>239.8</td>\n",
       "    </tr>\n",
       "    <tr>\n",
       "      <th>6010</th>\n",
       "      <td>2018-11-06 10:59:00</td>\n",
       "      <td>244.1</td>\n",
       "      <td>84.23</td>\n",
       "      <td>538.1</td>\n",
       "      <td>538.1</td>\n",
       "      <td>538.1</td>\n",
       "      <td>538.1</td>\n",
       "      <td>538.1</td>\n",
       "      <td>538.1</td>\n",
       "      <td>538.1</td>\n",
       "      <td>538.1</td>\n",
       "      <td>NaN</td>\n",
       "      <td>538.1</td>\n",
       "      <td>538.1</td>\n",
       "      <td>32290.0</td>\n",
       "      <td>538.1</td>\n",
       "      <td>538.1</td>\n",
       "      <td>32290.0</td>\n",
       "      <td>538.1</td>\n",
       "      <td>538.1</td>\n",
       "    </tr>\n",
       "    <tr>\n",
       "      <th>6011</th>\n",
       "      <td>2018-11-06 11:59:00</td>\n",
       "      <td>241.8</td>\n",
       "      <td>84.09</td>\n",
       "      <td>537.2</td>\n",
       "      <td>537.2</td>\n",
       "      <td>537.2</td>\n",
       "      <td>537.2</td>\n",
       "      <td>537.2</td>\n",
       "      <td>537.2</td>\n",
       "      <td>537.2</td>\n",
       "      <td>537.2</td>\n",
       "      <td>NaN</td>\n",
       "      <td>537.2</td>\n",
       "      <td>537.2</td>\n",
       "      <td>32230.0</td>\n",
       "      <td>537.2</td>\n",
       "      <td>537.2</td>\n",
       "      <td>32230.0</td>\n",
       "      <td>537.2</td>\n",
       "      <td>537.2</td>\n",
       "    </tr>\n",
       "  </tbody>\n",
       "</table>\n",
       "</div>"
      ],
      "text/plain": [
       "               Time(utc)    GHI     DHI    DNI    LWD  wind_dir_min  \\\n",
       "1523 2018-05-03 11:59:00  630.8  397.80  397.8  397.8         397.8   \n",
       "1545 2018-05-04 09:59:00  494.1  377.40  377.4  377.4         377.4   \n",
       "1546 2018-05-04 10:59:00  366.9  360.20  360.2  360.2         360.2   \n",
       "1711 2018-05-11 07:59:00  494.7  364.90  364.9  364.9         364.9   \n",
       "1713 2018-05-11 09:59:00  612.6  383.70  383.7  383.7         383.7   \n",
       "1714 2018-05-11 10:59:00  613.3  525.40  525.4  525.4         525.4   \n",
       "1715 2018-05-11 11:59:00  421.2  415.40  415.4  415.4         415.4   \n",
       "1716 2018-05-11 12:59:00  438.9  435.10  435.1  435.1         435.1   \n",
       "1717 2018-05-11 13:59:00  456.2  413.30  413.3  413.3         413.3   \n",
       "1739 2018-05-12 11:59:00  628.0  377.00  377.0  377.0         377.0   \n",
       "1740 2018-05-12 12:59:00  450.2  460.30  460.3  460.3         460.3   \n",
       "1905 2018-05-19 09:59:00  589.1  427.70  427.7  427.7         427.7   \n",
       "1906 2018-05-19 10:59:00  593.5  379.00  379.0  379.0         379.0   \n",
       "1953 2018-05-21 09:59:00  530.1  400.30  400.3  400.3         400.3   \n",
       "1954 2018-05-21 10:59:00  542.0  431.60  431.6  431.6         431.6   \n",
       "1955 2018-05-21 11:59:00  556.8  445.30  445.3  445.3         445.3   \n",
       "1956 2018-05-21 12:59:00  589.0  370.20  370.2  370.2         370.2   \n",
       "6009 2018-11-06 09:59:00  205.1   80.73  465.5  465.5         375.3   \n",
       "6010 2018-11-06 10:59:00  244.1   84.23  538.1  538.1         538.1   \n",
       "6011 2018-11-06 11:59:00  241.8   84.09  537.2  537.2         537.2   \n",
       "\n",
       "      wind_dir_avg  wind_dir_max  wind_speed_min  wind_speed_avg  \\\n",
       "1523         397.8         397.8           397.8           397.8   \n",
       "1545         377.4         377.4           377.4           377.4   \n",
       "1546         360.2         360.2           360.2           360.2   \n",
       "1711         364.9         364.9           364.9           364.9   \n",
       "1713         383.7         383.7           383.7           383.7   \n",
       "1714         525.4         525.4           525.4           525.4   \n",
       "1715         415.4         415.4           415.4           415.4   \n",
       "1716         435.1         435.1           435.1           435.1   \n",
       "1717         413.3         413.3           413.3           413.3   \n",
       "1739         377.0         377.0           377.0           377.0   \n",
       "1740         460.3         460.3           460.3           460.3   \n",
       "1905         427.7         427.7           427.7           427.7   \n",
       "1906         379.0         379.0           379.0           379.0   \n",
       "1953         400.3         400.3           400.3           400.3   \n",
       "1954         431.6         431.6           431.6           431.6   \n",
       "1955         445.3         445.3           445.3           445.3   \n",
       "1956         370.2         370.2           370.2           370.2   \n",
       "6009         387.1         398.1           240.5           240.7   \n",
       "6010         538.1         538.1           538.1           538.1   \n",
       "6011         537.2         537.2           537.2           537.2   \n",
       "\n",
       "      wind_speed_max  air_temperature  relative_humidity  air_pressure  \\\n",
       "1523           397.8              NaN              397.8         397.8   \n",
       "1545           377.4              NaN              377.4         377.4   \n",
       "1546           360.2              NaN              360.2         360.2   \n",
       "1711           364.9              NaN              364.9         364.9   \n",
       "1713           383.7              NaN              383.7         383.7   \n",
       "1714           525.4              NaN              525.4         525.4   \n",
       "1715           415.4              NaN              415.4         415.4   \n",
       "1716           435.1              NaN              435.1         435.1   \n",
       "1717           413.3              NaN              413.3         413.3   \n",
       "1739           377.0              NaN              377.0         377.0   \n",
       "1740           460.3              NaN              460.3         460.3   \n",
       "1905           427.7              NaN              427.7         427.7   \n",
       "1906           379.0              NaN              379.0         379.0   \n",
       "1953           400.3              NaN              400.3         400.3   \n",
       "1954           431.6              NaN              431.6         431.6   \n",
       "1955           445.3              NaN              445.3         445.3   \n",
       "1956           370.2              NaN              370.2         370.2   \n",
       "6009           241.0              NaN              280.9         758.5   \n",
       "6010           538.1              NaN              538.1         538.1   \n",
       "6011           537.2              NaN              537.2         537.2   \n",
       "\n",
       "      rain_accumulation  rain_duration  rain_intensity  hail_accumulation  \\\n",
       "1523            23870.0          397.8           397.8            23870.0   \n",
       "1545            22640.0          377.4           377.4            22640.0   \n",
       "1546            21610.0          360.2           360.2            21610.0   \n",
       "1711            21890.0          364.9           364.9            21890.0   \n",
       "1713            23020.0          383.7           383.7            23020.0   \n",
       "1714            31520.0          525.4           525.4            31520.0   \n",
       "1715            24930.0          415.4           415.4            24930.0   \n",
       "1716            26100.0          435.1           435.1            26100.0   \n",
       "1717            24800.0          413.3           413.3            24800.0   \n",
       "1739            22620.0          377.0           377.0            22620.0   \n",
       "1740            27620.0          460.3           460.3            27620.0   \n",
       "1905            25660.0          427.7           427.7            25660.0   \n",
       "1906            22740.0          379.0           379.0            22740.0   \n",
       "1953            24020.0          400.3           400.3            24020.0   \n",
       "1954            25900.0          431.6           431.6            25900.0   \n",
       "1955            26720.0          445.3           445.3            26720.0   \n",
       "1956            22210.0          370.2           370.2            22210.0   \n",
       "6009            14390.0          239.8           239.8            14390.0   \n",
       "6010            32290.0          538.1           538.1            32290.0   \n",
       "6011            32230.0          537.2           537.2            32230.0   \n",
       "\n",
       "      hail_duration  hail_intensity  \n",
       "1523          397.8           397.8  \n",
       "1545          377.4           377.4  \n",
       "1546          360.2           360.2  \n",
       "1711          364.9           364.9  \n",
       "1713          383.7           383.7  \n",
       "1714          525.4           525.4  \n",
       "1715          415.4           415.4  \n",
       "1716          435.1           435.1  \n",
       "1717          413.3           413.3  \n",
       "1739          377.0           377.0  \n",
       "1740          460.3           460.3  \n",
       "1905          427.7           427.7  \n",
       "1906          379.0           379.0  \n",
       "1953          400.3           400.3  \n",
       "1954          431.6           431.6  \n",
       "1955          445.3           445.3  \n",
       "1956          370.2           370.2  \n",
       "6009          239.8           239.8  \n",
       "6010          538.1           538.1  \n",
       "6011          537.2           537.2  "
      ]
     },
     "execution_count": 13,
     "metadata": {},
     "output_type": "execute_result"
    }
   ],
   "source": [
    "df[df.wind_dir_avg > 360]"
   ]
  },
  {
   "cell_type": "markdown",
   "metadata": {},
   "source": [
    "Note how all of these observations have bad air_temperature as well. Further more notice how most observations have dplicated values across the columns - clearly something has gone wrong here as well"
   ]
  },
  {
   "cell_type": "code",
   "execution_count": 14,
   "metadata": {},
   "outputs": [
    {
     "data": {
      "text/html": [
       "<div>\n",
       "<style scoped>\n",
       "    .dataframe tbody tr th:only-of-type {\n",
       "        vertical-align: middle;\n",
       "    }\n",
       "\n",
       "    .dataframe tbody tr th {\n",
       "        vertical-align: top;\n",
       "    }\n",
       "\n",
       "    .dataframe thead th {\n",
       "        text-align: right;\n",
       "    }\n",
       "</style>\n",
       "<table border=\"1\" class=\"dataframe\">\n",
       "  <thead>\n",
       "    <tr style=\"text-align: right;\">\n",
       "      <th></th>\n",
       "      <th>Time(utc)</th>\n",
       "      <th>GHI</th>\n",
       "      <th>DHI</th>\n",
       "      <th>DNI</th>\n",
       "      <th>LWD</th>\n",
       "      <th>wind_dir_min</th>\n",
       "      <th>wind_dir_avg</th>\n",
       "      <th>wind_dir_max</th>\n",
       "      <th>wind_speed_min</th>\n",
       "      <th>wind_speed_avg</th>\n",
       "      <th>wind_speed_max</th>\n",
       "      <th>air_temperature</th>\n",
       "      <th>relative_humidity</th>\n",
       "      <th>air_pressure</th>\n",
       "      <th>rain_accumulation</th>\n",
       "      <th>rain_duration</th>\n",
       "      <th>rain_intensity</th>\n",
       "      <th>hail_accumulation</th>\n",
       "      <th>hail_duration</th>\n",
       "      <th>hail_intensity</th>\n",
       "    </tr>\n",
       "  </thead>\n",
       "  <tbody>\n",
       "    <tr>\n",
       "      <th>1512</th>\n",
       "      <td>2018-05-03 00:59:00</td>\n",
       "      <td>-2.969</td>\n",
       "      <td>-2.4440</td>\n",
       "      <td>-2.4160</td>\n",
       "      <td>-2.4160</td>\n",
       "      <td>-0.5927</td>\n",
       "      <td>-0.4927</td>\n",
       "      <td>-0.3593</td>\n",
       "      <td>-2.3690</td>\n",
       "      <td>-2.3680</td>\n",
       "      <td>-2.3660</td>\n",
       "      <td>-2.2830</td>\n",
       "      <td>-1.4140</td>\n",
       "      <td>14.3600</td>\n",
       "      <td>-144.60</td>\n",
       "      <td>-2.4090</td>\n",
       "      <td>-2.4090</td>\n",
       "      <td>-144.60</td>\n",
       "      <td>-2.4090</td>\n",
       "      <td>-2.4090</td>\n",
       "    </tr>\n",
       "    <tr>\n",
       "      <th>1513</th>\n",
       "      <td>2018-05-03 01:59:00</td>\n",
       "      <td>-2.925</td>\n",
       "      <td>-2.3540</td>\n",
       "      <td>-2.3540</td>\n",
       "      <td>-2.3540</td>\n",
       "      <td>-2.3540</td>\n",
       "      <td>-2.3540</td>\n",
       "      <td>-2.3540</td>\n",
       "      <td>-2.3540</td>\n",
       "      <td>-2.3540</td>\n",
       "      <td>-2.3540</td>\n",
       "      <td>-2.3540</td>\n",
       "      <td>-2.3540</td>\n",
       "      <td>-2.3540</td>\n",
       "      <td>-141.20</td>\n",
       "      <td>-2.3540</td>\n",
       "      <td>-2.3540</td>\n",
       "      <td>-141.20</td>\n",
       "      <td>-2.3540</td>\n",
       "      <td>-2.3540</td>\n",
       "    </tr>\n",
       "    <tr>\n",
       "      <th>1514</th>\n",
       "      <td>2018-05-03 02:59:00</td>\n",
       "      <td>-1.200</td>\n",
       "      <td>-0.9968</td>\n",
       "      <td>-0.9968</td>\n",
       "      <td>-0.9968</td>\n",
       "      <td>-0.9968</td>\n",
       "      <td>-0.9968</td>\n",
       "      <td>-0.9968</td>\n",
       "      <td>-0.9968</td>\n",
       "      <td>-0.9968</td>\n",
       "      <td>-0.9968</td>\n",
       "      <td>-0.9968</td>\n",
       "      <td>-0.9968</td>\n",
       "      <td>-0.9968</td>\n",
       "      <td>-59.81</td>\n",
       "      <td>-0.9968</td>\n",
       "      <td>-0.9968</td>\n",
       "      <td>-59.81</td>\n",
       "      <td>-0.9968</td>\n",
       "      <td>-0.9968</td>\n",
       "    </tr>\n",
       "    <tr>\n",
       "      <th>1531</th>\n",
       "      <td>2018-05-03 19:59:00</td>\n",
       "      <td>-3.158</td>\n",
       "      <td>-2.8300</td>\n",
       "      <td>-2.8300</td>\n",
       "      <td>-2.8300</td>\n",
       "      <td>-2.8300</td>\n",
       "      <td>-2.8300</td>\n",
       "      <td>-2.8300</td>\n",
       "      <td>-2.8300</td>\n",
       "      <td>-2.8300</td>\n",
       "      <td>-2.8300</td>\n",
       "      <td>-2.8300</td>\n",
       "      <td>-2.8300</td>\n",
       "      <td>-2.8300</td>\n",
       "      <td>-169.80</td>\n",
       "      <td>-2.8300</td>\n",
       "      <td>-2.8300</td>\n",
       "      <td>-169.80</td>\n",
       "      <td>-2.8300</td>\n",
       "      <td>-2.8300</td>\n",
       "    </tr>\n",
       "    <tr>\n",
       "      <th>1532</th>\n",
       "      <td>2018-05-03 20:59:00</td>\n",
       "      <td>-3.445</td>\n",
       "      <td>-3.0990</td>\n",
       "      <td>-3.0990</td>\n",
       "      <td>-3.0990</td>\n",
       "      <td>-3.0990</td>\n",
       "      <td>-3.0990</td>\n",
       "      <td>-3.0990</td>\n",
       "      <td>-3.0990</td>\n",
       "      <td>-3.0990</td>\n",
       "      <td>-3.0990</td>\n",
       "      <td>-3.0990</td>\n",
       "      <td>-3.0990</td>\n",
       "      <td>-3.0990</td>\n",
       "      <td>-186.00</td>\n",
       "      <td>-3.0990</td>\n",
       "      <td>-3.0990</td>\n",
       "      <td>-186.00</td>\n",
       "      <td>-3.0990</td>\n",
       "      <td>-3.0990</td>\n",
       "    </tr>\n",
       "    <tr>\n",
       "      <th>...</th>\n",
       "      <td>...</td>\n",
       "      <td>...</td>\n",
       "      <td>...</td>\n",
       "      <td>...</td>\n",
       "      <td>...</td>\n",
       "      <td>...</td>\n",
       "      <td>...</td>\n",
       "      <td>...</td>\n",
       "      <td>...</td>\n",
       "      <td>...</td>\n",
       "      <td>...</td>\n",
       "      <td>...</td>\n",
       "      <td>...</td>\n",
       "      <td>...</td>\n",
       "      <td>...</td>\n",
       "      <td>...</td>\n",
       "      <td>...</td>\n",
       "      <td>...</td>\n",
       "      <td>...</td>\n",
       "      <td>...</td>\n",
       "    </tr>\n",
       "    <tr>\n",
       "      <th>1989</th>\n",
       "      <td>2018-05-22 21:59:00</td>\n",
       "      <td>-2.301</td>\n",
       "      <td>-3.1800</td>\n",
       "      <td>-3.1800</td>\n",
       "      <td>-3.1800</td>\n",
       "      <td>-3.1800</td>\n",
       "      <td>-3.1800</td>\n",
       "      <td>-3.1800</td>\n",
       "      <td>-3.1800</td>\n",
       "      <td>-3.1800</td>\n",
       "      <td>-3.1800</td>\n",
       "      <td>-3.1800</td>\n",
       "      <td>-3.1800</td>\n",
       "      <td>-3.1800</td>\n",
       "      <td>-190.80</td>\n",
       "      <td>-3.1800</td>\n",
       "      <td>-3.1800</td>\n",
       "      <td>-190.80</td>\n",
       "      <td>-3.1800</td>\n",
       "      <td>-3.1800</td>\n",
       "    </tr>\n",
       "    <tr>\n",
       "      <th>1990</th>\n",
       "      <td>2018-05-22 22:59:00</td>\n",
       "      <td>-2.476</td>\n",
       "      <td>-2.6160</td>\n",
       "      <td>-2.6160</td>\n",
       "      <td>-2.6160</td>\n",
       "      <td>-2.6160</td>\n",
       "      <td>-2.6160</td>\n",
       "      <td>-2.6160</td>\n",
       "      <td>-2.6160</td>\n",
       "      <td>-2.6160</td>\n",
       "      <td>-2.6160</td>\n",
       "      <td>-2.6160</td>\n",
       "      <td>-2.6160</td>\n",
       "      <td>-2.6160</td>\n",
       "      <td>-156.90</td>\n",
       "      <td>-2.6160</td>\n",
       "      <td>-2.6160</td>\n",
       "      <td>-156.90</td>\n",
       "      <td>-2.6160</td>\n",
       "      <td>-2.6160</td>\n",
       "    </tr>\n",
       "    <tr>\n",
       "      <th>1991</th>\n",
       "      <td>2018-05-22 23:59:00</td>\n",
       "      <td>-3.042</td>\n",
       "      <td>-2.7950</td>\n",
       "      <td>-2.7950</td>\n",
       "      <td>-2.7950</td>\n",
       "      <td>-2.7950</td>\n",
       "      <td>-2.7950</td>\n",
       "      <td>-2.7950</td>\n",
       "      <td>-2.7950</td>\n",
       "      <td>-2.7950</td>\n",
       "      <td>-2.7950</td>\n",
       "      <td>-2.7950</td>\n",
       "      <td>-2.7950</td>\n",
       "      <td>-2.7950</td>\n",
       "      <td>-167.70</td>\n",
       "      <td>-2.7950</td>\n",
       "      <td>-2.7950</td>\n",
       "      <td>-167.70</td>\n",
       "      <td>-2.7950</td>\n",
       "      <td>-2.7950</td>\n",
       "    </tr>\n",
       "    <tr>\n",
       "      <th>1992</th>\n",
       "      <td>2018-05-23 00:59:00</td>\n",
       "      <td>-3.017</td>\n",
       "      <td>-2.2680</td>\n",
       "      <td>-2.2680</td>\n",
       "      <td>-2.2680</td>\n",
       "      <td>-2.2230</td>\n",
       "      <td>-2.2230</td>\n",
       "      <td>-2.2230</td>\n",
       "      <td>-2.2230</td>\n",
       "      <td>-2.2230</td>\n",
       "      <td>-2.2230</td>\n",
       "      <td>-2.2230</td>\n",
       "      <td>-2.2230</td>\n",
       "      <td>-2.2230</td>\n",
       "      <td>-133.40</td>\n",
       "      <td>-2.2230</td>\n",
       "      <td>-2.2230</td>\n",
       "      <td>-133.40</td>\n",
       "      <td>-2.2230</td>\n",
       "      <td>-2.2230</td>\n",
       "    </tr>\n",
       "    <tr>\n",
       "      <th>1993</th>\n",
       "      <td>2018-05-23 01:59:00</td>\n",
       "      <td>-2.323</td>\n",
       "      <td>-1.8510</td>\n",
       "      <td>-1.8510</td>\n",
       "      <td>-1.8510</td>\n",
       "      <td>-1.8510</td>\n",
       "      <td>-1.8510</td>\n",
       "      <td>-1.8510</td>\n",
       "      <td>-1.8510</td>\n",
       "      <td>-1.8510</td>\n",
       "      <td>-1.8510</td>\n",
       "      <td>-1.8510</td>\n",
       "      <td>-1.8510</td>\n",
       "      <td>-1.8510</td>\n",
       "      <td>-111.00</td>\n",
       "      <td>-1.8510</td>\n",
       "      <td>-1.8510</td>\n",
       "      <td>-111.00</td>\n",
       "      <td>-1.8510</td>\n",
       "      <td>-1.8510</td>\n",
       "    </tr>\n",
       "  </tbody>\n",
       "</table>\n",
       "<p>145 rows × 20 columns</p>\n",
       "</div>"
      ],
      "text/plain": [
       "               Time(utc)    GHI     DHI     DNI     LWD  wind_dir_min  \\\n",
       "1512 2018-05-03 00:59:00 -2.969 -2.4440 -2.4160 -2.4160       -0.5927   \n",
       "1513 2018-05-03 01:59:00 -2.925 -2.3540 -2.3540 -2.3540       -2.3540   \n",
       "1514 2018-05-03 02:59:00 -1.200 -0.9968 -0.9968 -0.9968       -0.9968   \n",
       "1531 2018-05-03 19:59:00 -3.158 -2.8300 -2.8300 -2.8300       -2.8300   \n",
       "1532 2018-05-03 20:59:00 -3.445 -3.0990 -3.0990 -3.0990       -3.0990   \n",
       "...                  ...    ...     ...     ...     ...           ...   \n",
       "1989 2018-05-22 21:59:00 -2.301 -3.1800 -3.1800 -3.1800       -3.1800   \n",
       "1990 2018-05-22 22:59:00 -2.476 -2.6160 -2.6160 -2.6160       -2.6160   \n",
       "1991 2018-05-22 23:59:00 -3.042 -2.7950 -2.7950 -2.7950       -2.7950   \n",
       "1992 2018-05-23 00:59:00 -3.017 -2.2680 -2.2680 -2.2680       -2.2230   \n",
       "1993 2018-05-23 01:59:00 -2.323 -1.8510 -1.8510 -1.8510       -1.8510   \n",
       "\n",
       "      wind_dir_avg  wind_dir_max  wind_speed_min  wind_speed_avg  \\\n",
       "1512       -0.4927       -0.3593         -2.3690         -2.3680   \n",
       "1513       -2.3540       -2.3540         -2.3540         -2.3540   \n",
       "1514       -0.9968       -0.9968         -0.9968         -0.9968   \n",
       "1531       -2.8300       -2.8300         -2.8300         -2.8300   \n",
       "1532       -3.0990       -3.0990         -3.0990         -3.0990   \n",
       "...            ...           ...             ...             ...   \n",
       "1989       -3.1800       -3.1800         -3.1800         -3.1800   \n",
       "1990       -2.6160       -2.6160         -2.6160         -2.6160   \n",
       "1991       -2.7950       -2.7950         -2.7950         -2.7950   \n",
       "1992       -2.2230       -2.2230         -2.2230         -2.2230   \n",
       "1993       -1.8510       -1.8510         -1.8510         -1.8510   \n",
       "\n",
       "      wind_speed_max  air_temperature  relative_humidity  air_pressure  \\\n",
       "1512         -2.3660          -2.2830            -1.4140       14.3600   \n",
       "1513         -2.3540          -2.3540            -2.3540       -2.3540   \n",
       "1514         -0.9968          -0.9968            -0.9968       -0.9968   \n",
       "1531         -2.8300          -2.8300            -2.8300       -2.8300   \n",
       "1532         -3.0990          -3.0990            -3.0990       -3.0990   \n",
       "...              ...              ...                ...           ...   \n",
       "1989         -3.1800          -3.1800            -3.1800       -3.1800   \n",
       "1990         -2.6160          -2.6160            -2.6160       -2.6160   \n",
       "1991         -2.7950          -2.7950            -2.7950       -2.7950   \n",
       "1992         -2.2230          -2.2230            -2.2230       -2.2230   \n",
       "1993         -1.8510          -1.8510            -1.8510       -1.8510   \n",
       "\n",
       "      rain_accumulation  rain_duration  rain_intensity  hail_accumulation  \\\n",
       "1512            -144.60        -2.4090         -2.4090            -144.60   \n",
       "1513            -141.20        -2.3540         -2.3540            -141.20   \n",
       "1514             -59.81        -0.9968         -0.9968             -59.81   \n",
       "1531            -169.80        -2.8300         -2.8300            -169.80   \n",
       "1532            -186.00        -3.0990         -3.0990            -186.00   \n",
       "...                 ...            ...             ...                ...   \n",
       "1989            -190.80        -3.1800         -3.1800            -190.80   \n",
       "1990            -156.90        -2.6160         -2.6160            -156.90   \n",
       "1991            -167.70        -2.7950         -2.7950            -167.70   \n",
       "1992            -133.40        -2.2230         -2.2230            -133.40   \n",
       "1993            -111.00        -1.8510         -1.8510            -111.00   \n",
       "\n",
       "      hail_duration  hail_intensity  \n",
       "1512        -2.4090         -2.4090  \n",
       "1513        -2.3540         -2.3540  \n",
       "1514        -0.9968         -0.9968  \n",
       "1531        -2.8300         -2.8300  \n",
       "1532        -3.0990         -3.0990  \n",
       "...             ...             ...  \n",
       "1989        -3.1800         -3.1800  \n",
       "1990        -2.6160         -2.6160  \n",
       "1991        -2.7950         -2.7950  \n",
       "1992        -2.2230         -2.2230  \n",
       "1993        -1.8510         -1.8510  \n",
       "\n",
       "[145 rows x 20 columns]"
      ]
     },
     "execution_count": 14,
     "metadata": {},
     "output_type": "execute_result"
    }
   ],
   "source": [
    "neg_idx = df[df.wind_dir_avg < 0].index\n",
    "df[df.wind_dir_avg < 0]"
   ]
  },
  {
   "cell_type": "markdown",
   "metadata": {},
   "source": [
    "Notice how all of the observations hare again have the duplicated value problem. Also all of the values are negative - which makes no sense for some of them i.e. negative rain fall"
   ]
  },
  {
   "cell_type": "markdown",
   "metadata": {},
   "source": [
    "Due to the problems denoted above i choose to invalidate all of the found observations"
   ]
  },
  {
   "cell_type": "code",
   "execution_count": 15,
   "metadata": {},
   "outputs": [],
   "source": [
    "wind_idx = (df.wind_dir_avg < 0) | (df.wind_dir_avg > 360)"
   ]
  },
  {
   "cell_type": "code",
   "execution_count": 16,
   "metadata": {},
   "outputs": [],
   "source": [
    "wind_idx = df.wind_dir_avg[wind_idx].index"
   ]
  },
  {
   "cell_type": "code",
   "execution_count": 17,
   "metadata": {},
   "outputs": [
    {
     "name": "stderr",
     "output_type": "stream",
     "text": [
      "/home/mathias/Dropbox/Uni/Speciale/code/nf-env/lib/python3.6/site-packages/ipykernel_launcher.py:1: SettingWithCopyWarning: \n",
      "A value is trying to be set on a copy of a slice from a DataFrame\n",
      "\n",
      "See the caveats in the documentation: https://pandas.pydata.org/pandas-docs/stable/user_guide/indexing.html#returning-a-view-versus-a-copy\n",
      "  \"\"\"Entry point for launching an IPython kernel.\n"
     ]
    }
   ],
   "source": [
    "df.wind_dir_avg[wind_idx] = np.NAN"
   ]
  },
  {
   "cell_type": "code",
   "execution_count": 18,
   "metadata": {},
   "outputs": [
    {
     "data": {
      "text/plain": [
       "<matplotlib.axes._subplots.AxesSubplot at 0x7f9d70ca08d0>"
      ]
     },
     "execution_count": 18,
     "metadata": {},
     "output_type": "execute_result"
    },
    {
     "data": {
      "image/png": "[encoded data removed]",
      "text/plain": [
       "<Figure size 432x288 with 1 Axes>"
      ]
     },
     "metadata": {
      "needs_background": "light"
     },
     "output_type": "display_data"
    }
   ],
   "source": [
    "df.wind_dir_avg.plot(kind='hist', bins=100)"
   ]
  },
  {
   "cell_type": "markdown",
   "metadata": {},
   "source": [
    "Now the wind direction looks much more plausible,"
   ]
  },
  {
   "cell_type": "markdown",
   "metadata": {},
   "source": [
    "## Wind speed"
   ]
  },
  {
   "cell_type": "code",
   "execution_count": 19,
   "metadata": {},
   "outputs": [
    {
     "data": {
      "text/plain": [
       "<matplotlib.axes._subplots.AxesSubplot at 0x7f9d70b1a8d0>"
      ]
     },
     "execution_count": 19,
     "metadata": {},
     "output_type": "execute_result"
    },
    {
     "data": {
      "image/png": "[encoded data removed]",
      "text/plain": [
       "<Figure size 432x288 with 1 Axes>"
      ]
     },
     "metadata": {
      "needs_background": "light"
     },
     "output_type": "display_data"
    }
   ],
   "source": [
    "df.wind_speed_avg.plot(kind='hist', bins=100)"
   ]
  },
  {
   "cell_type": "code",
   "execution_count": 20,
   "metadata": {},
   "outputs": [
    {
     "data": {
      "text/plain": [
       "538.1"
      ]
     },
     "execution_count": 20,
     "metadata": {},
     "output_type": "execute_result"
    }
   ],
   "source": [
    "df.wind_speed_avg.max()"
   ]
  },
  {
   "cell_type": "markdown",
   "metadata": {},
   "source": [
    "Again note that the highest wind speed measured in Denmark is 39.5 m/s and 53 m/s for gusts. (again from DMI). So clearly we have some errors again.\n",
    "Furthermore that max value here is exactly the same value we saw for max temperature - seems fishy\n",
    "\n",
    "The data should be over an hour so I set the max value to be 40 m/s"
   ]
  },
  {
   "cell_type": "code",
   "execution_count": 21,
   "metadata": {},
   "outputs": [],
   "source": [
    "speed_idx = df[df.wind_speed_avg > 40].index"
   ]
  },
  {
   "cell_type": "code",
   "execution_count": 22,
   "metadata": {},
   "outputs": [
    {
     "data": {
      "text/plain": [
       "266"
      ]
     },
     "execution_count": 22,
     "metadata": {},
     "output_type": "execute_result"
    }
   ],
   "source": [
    "len(speed_idx)"
   ]
  },
  {
   "cell_type": "code",
   "execution_count": 23,
   "metadata": {},
   "outputs": [
    {
     "data": {
      "text/plain": [
       "array([ True,  True,  True,  True,  True,  True,  True,  True,  True,\n",
       "        True,  True,  True,  True,  True,  True,  True,  True,  True,\n",
       "        True,  True,  True,  True,  True,  True,  True,  True,  True,\n",
       "        True,  True,  True,  True,  True,  True,  True,  True,  True,\n",
       "        True,  True,  True,  True,  True,  True,  True,  True,  True,\n",
       "        True,  True,  True,  True,  True,  True,  True,  True,  True,\n",
       "        True,  True,  True,  True,  True,  True,  True,  True,  True,\n",
       "        True,  True,  True,  True,  True,  True,  True,  True,  True,\n",
       "        True,  True,  True,  True,  True,  True,  True,  True,  True,\n",
       "        True,  True,  True,  True,  True,  True,  True,  True,  True,\n",
       "        True,  True,  True,  True,  True,  True,  True,  True,  True,\n",
       "        True,  True,  True,  True,  True,  True,  True,  True,  True,\n",
       "        True,  True,  True,  True,  True,  True,  True,  True,  True,\n",
       "        True,  True,  True,  True,  True,  True,  True,  True,  True,\n",
       "        True,  True,  True,  True,  True,  True,  True,  True,  True,\n",
       "        True,  True,  True,  True,  True,  True,  True,  True,  True,\n",
       "        True,  True,  True,  True,  True,  True,  True,  True,  True,\n",
       "        True,  True,  True,  True,  True,  True,  True,  True,  True,\n",
       "        True,  True,  True,  True,  True,  True,  True,  True,  True,\n",
       "        True,  True,  True,  True,  True,  True,  True,  True,  True,\n",
       "        True,  True,  True,  True,  True,  True,  True,  True,  True,\n",
       "        True,  True,  True,  True,  True,  True,  True,  True,  True,\n",
       "        True,  True,  True,  True,  True,  True,  True,  True,  True,\n",
       "        True,  True,  True,  True,  True,  True,  True,  True,  True,\n",
       "        True,  True,  True,  True,  True,  True,  True,  True,  True,\n",
       "        True,  True,  True,  True,  True,  True,  True,  True,  True,\n",
       "        True,  True,  True,  True,  True,  True,  True,  True,  True,\n",
       "        True,  True,  True,  True,  True,  True,  True,  True,  True,\n",
       "        True,  True,  True,  True,  True,  True,  True,  True,  True,\n",
       "        True,  True,  True,  True,  True])"
      ]
     },
     "execution_count": 23,
     "metadata": {},
     "output_type": "execute_result"
    }
   ],
   "source": [
    "speed_idx == temp_idx"
   ]
  },
  {
   "cell_type": "markdown",
   "metadata": {},
   "source": [
    "Note that all of the error observations are exactly the same we found for temp. So we will remove them all"
   ]
  },
  {
   "cell_type": "code",
   "execution_count": 24,
   "metadata": {},
   "outputs": [
    {
     "data": {
      "text/plain": [
       "145"
      ]
     },
     "execution_count": 24,
     "metadata": {},
     "output_type": "execute_result"
    }
   ],
   "source": [
    "len(df[df.wind_speed_avg < 0])"
   ]
  },
  {
   "cell_type": "code",
   "execution_count": 25,
   "metadata": {},
   "outputs": [
    {
     "data": {
      "text/plain": [
       "array([ True,  True,  True,  True,  True,  True,  True,  True,  True,\n",
       "        True,  True,  True,  True,  True,  True,  True,  True,  True,\n",
       "        True,  True,  True,  True,  True,  True,  True,  True,  True,\n",
       "        True,  True,  True,  True,  True,  True,  True,  True,  True,\n",
       "        True,  True,  True,  True,  True,  True,  True,  True,  True,\n",
       "        True,  True,  True,  True,  True,  True,  True,  True,  True,\n",
       "        True,  True,  True,  True,  True,  True,  True,  True,  True,\n",
       "        True,  True,  True,  True,  True,  True,  True,  True,  True,\n",
       "        True,  True,  True,  True,  True,  True,  True,  True,  True,\n",
       "        True,  True,  True,  True,  True,  True,  True,  True,  True,\n",
       "        True,  True,  True,  True,  True,  True,  True,  True,  True,\n",
       "        True,  True,  True,  True,  True,  True,  True,  True,  True,\n",
       "        True,  True,  True,  True,  True,  True,  True,  True,  True,\n",
       "        True,  True,  True,  True,  True,  True,  True,  True,  True,\n",
       "        True,  True,  True,  True,  True,  True,  True,  True,  True,\n",
       "        True,  True,  True,  True,  True,  True,  True,  True,  True,\n",
       "        True])"
      ]
     },
     "execution_count": 25,
     "metadata": {},
     "output_type": "execute_result"
    }
   ],
   "source": [
    "df[df.wind_speed_avg < 0].index == neg_idx"
   ]
  },
  {
   "cell_type": "markdown",
   "metadata": {},
   "source": [
    "And the obs with negative values corresponds with the obs we wound earlier. So we will remove those as well"
   ]
  },
  {
   "cell_type": "code",
   "execution_count": 26,
   "metadata": {},
   "outputs": [],
   "source": [
    "speed_idx2 = (df.wind_speed_avg < 0) | (df.wind_speed_avg > 40)"
   ]
  },
  {
   "cell_type": "code",
   "execution_count": 27,
   "metadata": {},
   "outputs": [
    {
     "name": "stderr",
     "output_type": "stream",
     "text": [
      "/home/mathias/Dropbox/Uni/Speciale/code/nf-env/lib/python3.6/site-packages/ipykernel_launcher.py:1: SettingWithCopyWarning: \n",
      "A value is trying to be set on a copy of a slice from a DataFrame\n",
      "\n",
      "See the caveats in the documentation: https://pandas.pydata.org/pandas-docs/stable/user_guide/indexing.html#returning-a-view-versus-a-copy\n",
      "  \"\"\"Entry point for launching an IPython kernel.\n"
     ]
    }
   ],
   "source": [
    "df.wind_speed_avg[speed_idx2] = np.NaN"
   ]
  },
  {
   "cell_type": "code",
   "execution_count": 28,
   "metadata": {},
   "outputs": [
    {
     "data": {
      "text/plain": [
       "<matplotlib.axes._subplots.AxesSubplot at 0x7f9d709875f8>"
      ]
     },
     "execution_count": 28,
     "metadata": {},
     "output_type": "execute_result"
    },
    {
     "data": {
      "image/png": "[encoded data removed]",
      "text/plain": [
       "<Figure size 432x288 with 1 Axes>"
      ]
     },
     "metadata": {
      "needs_background": "light"
     },
     "output_type": "display_data"
    }
   ],
   "source": [
    "df.wind_speed_avg.plot(kind='hist', bins=100)"
   ]
  },
  {
   "cell_type": "markdown",
   "metadata": {},
   "source": [
    "Looks better - Some observations still looks a bit like outliers but they are atleast historically plausible now"
   ]
  },
  {
   "cell_type": "markdown",
   "metadata": {},
   "source": [
    "## Rain duration"
   ]
  },
  {
   "cell_type": "code",
   "execution_count": 29,
   "metadata": {},
   "outputs": [
    {
     "data": {
      "text/plain": [
       "<matplotlib.axes._subplots.AxesSubplot at 0x7f9d707f9cf8>"
      ]
     },
     "execution_count": 29,
     "metadata": {},
     "output_type": "execute_result"
    },
    {
     "data": {
      "image/png": "[encoded data removed]",
      "text/plain": [
       "<Figure size 432x288 with 1 Axes>"
      ]
     },
     "metadata": {
      "needs_background": "light"
     },
     "output_type": "display_data"
    }
   ],
   "source": [
    "df.rain_duration.plot(kind='hist', bins=100)"
   ]
  },
  {
   "cell_type": "code",
   "execution_count": 30,
   "metadata": {},
   "outputs": [
    {
     "data": {
      "text/plain": [
       "1028.0"
      ]
     },
     "execution_count": 30,
     "metadata": {},
     "output_type": "execute_result"
    }
   ],
   "source": [
    "df.rain_duration.max()"
   ]
  },
  {
   "cell_type": "markdown",
   "metadata": {},
   "source": [
    "Rain duration looks weird as well. The measuring instrument measures each 10 second increment it rains per hour. Hence the maximum should be 360."
   ]
  },
  {
   "cell_type": "code",
   "execution_count": 31,
   "metadata": {},
   "outputs": [
    {
     "data": {
      "text/plain": [
       "2059"
      ]
     },
     "execution_count": 31,
     "metadata": {},
     "output_type": "execute_result"
    }
   ],
   "source": [
    "(df.rain_duration > 360).sum()"
   ]
  },
  {
   "cell_type": "markdown",
   "metadata": {},
   "source": [
    "This means that 2059 observations are faulty - This seems like quite a high number. However we will have to invalidate them"
   ]
  },
  {
   "cell_type": "code",
   "execution_count": 32,
   "metadata": {},
   "outputs": [],
   "source": [
    "bad_rain_idx = df[df.rain_duration > 360].index"
   ]
  },
  {
   "cell_type": "code",
   "execution_count": 33,
   "metadata": {},
   "outputs": [
    {
     "name": "stderr",
     "output_type": "stream",
     "text": [
      "/home/mathias/Dropbox/Uni/Speciale/code/nf-env/lib/python3.6/site-packages/ipykernel_launcher.py:1: SettingWithCopyWarning: \n",
      "A value is trying to be set on a copy of a slice from a DataFrame\n",
      "\n",
      "See the caveats in the documentation: https://pandas.pydata.org/pandas-docs/stable/user_guide/indexing.html#returning-a-view-versus-a-copy\n",
      "  \"\"\"Entry point for launching an IPython kernel.\n"
     ]
    }
   ],
   "source": [
    "df.rain_duration[bad_rain_idx] = np.NaN"
   ]
  },
  {
   "cell_type": "code",
   "execution_count": 34,
   "metadata": {},
   "outputs": [
    {
     "data": {
      "text/plain": [
       "<matplotlib.axes._subplots.AxesSubplot at 0x7f9d70675470>"
      ]
     },
     "execution_count": 34,
     "metadata": {},
     "output_type": "execute_result"
    },
    {
     "data": {
      "image/png": "[encoded data removed]",
      "text/plain": [
       "<Figure size 432x288 with 1 Axes>"
      ]
     },
     "metadata": {
      "needs_background": "light"
     },
     "output_type": "display_data"
    }
   ],
   "source": [
    "df.rain_duration.plot(kind='hist', bins=100)"
   ]
  },
  {
   "cell_type": "code",
   "execution_count": 35,
   "metadata": {},
   "outputs": [
    {
     "data": {
      "text/plain": [
       "358.7"
      ]
     },
     "execution_count": 35,
     "metadata": {},
     "output_type": "execute_result"
    }
   ],
   "source": [
    "df.rain_duration.max()"
   ]
  },
  {
   "cell_type": "code",
   "execution_count": 36,
   "metadata": {},
   "outputs": [],
   "source": [
    "good_rain = (df.rain_duration.notna())\n",
    "zero_rain = (df.rain_duration == 0)\n",
    "non_zero_rain = (df.rain_duration > 0)"
   ]
  },
  {
   "cell_type": "code",
   "execution_count": 37,
   "metadata": {},
   "outputs": [
    {
     "name": "stdout",
     "output_type": "stream",
     "text": [
      "n good rain obs: 7181\n",
      "n zero rain obs: 5646\n",
      "n non zero rain obs: 1389\n",
      "Percentage of time it rains: 0.19342709928979251\n"
     ]
    }
   ],
   "source": [
    "print(f\"n good rain obs: {good_rain.sum()}\")\n",
    "print(f\"n zero rain obs: {zero_rain.sum()}\")\n",
    "print(f\"n non zero rain obs: {non_zero_rain.sum()}\")\n",
    "print(f\"Percentage of time it rains: {non_zero_rain.sum() / good_rain.sum()}\")"
   ]
  },
  {
   "cell_type": "markdown",
   "metadata": {},
   "source": [
    "So after cleaning it seems like it rains at least some around 1/5 of all hours - seems plausible i think."
   ]
  },
  {
   "cell_type": "markdown",
   "metadata": {},
   "source": [
    "## Rain fall"
   ]
  },
  {
   "cell_type": "code",
   "execution_count": 38,
   "metadata": {},
   "outputs": [
    {
     "data": {
      "text/plain": [
       "<matplotlib.axes._subplots.AxesSubplot at 0x7f9d70544fd0>"
      ]
     },
     "execution_count": 38,
     "metadata": {},
     "output_type": "execute_result"
    },
    {
     "data": {
      "image/png": "[encoded data removed]",
      "text/plain": [
       "<Figure size 432x288 with 1 Axes>"
      ]
     },
     "metadata": {
      "needs_background": "light"
     },
     "output_type": "display_data"
    }
   ],
   "source": [
    "df.rain_accumulation.plot(kind='hist', bins=100)"
   ]
  },
  {
   "cell_type": "code",
   "execution_count": 39,
   "metadata": {},
   "outputs": [
    {
     "data": {
      "text/plain": [
       "61680.0"
      ]
     },
     "execution_count": 39,
     "metadata": {},
     "output_type": "execute_result"
    }
   ],
   "source": [
    "df.rain_accumulation.max()"
   ]
  },
  {
   "cell_type": "markdown",
   "metadata": {},
   "source": [
    "Seems like it has the same error as rain duration just scaled. So I try to remove the same observations as before"
   ]
  },
  {
   "cell_type": "code",
   "execution_count": 40,
   "metadata": {},
   "outputs": [
    {
     "name": "stderr",
     "output_type": "stream",
     "text": [
      "/home/mathias/Dropbox/Uni/Speciale/code/nf-env/lib/python3.6/site-packages/ipykernel_launcher.py:1: SettingWithCopyWarning: \n",
      "A value is trying to be set on a copy of a slice from a DataFrame\n",
      "\n",
      "See the caveats in the documentation: https://pandas.pydata.org/pandas-docs/stable/user_guide/indexing.html#returning-a-view-versus-a-copy\n",
      "  \"\"\"Entry point for launching an IPython kernel.\n"
     ]
    }
   ],
   "source": [
    "df.rain_accumulation[~good_rain] = np.NaN"
   ]
  },
  {
   "cell_type": "code",
   "execution_count": 41,
   "metadata": {},
   "outputs": [
    {
     "data": {
      "text/plain": [
       "<matplotlib.axes._subplots.AxesSubplot at 0x7f9d703bce80>"
      ]
     },
     "execution_count": 41,
     "metadata": {},
     "output_type": "execute_result"
    },
    {
     "data": {
      "image/png": "[encoded data removed]",
      "text/plain": [
       "<Figure size 432x288 with 1 Axes>"
      ]
     },
     "metadata": {
      "needs_background": "light"
     },
     "output_type": "display_data"
    }
   ],
   "source": [
    "df.rain_accumulation.plot(kind='hist', bins=100)"
   ]
  },
  {
   "cell_type": "code",
   "execution_count": 42,
   "metadata": {},
   "outputs": [
    {
     "data": {
      "text/plain": [
       "21520.0"
      ]
     },
     "execution_count": 42,
     "metadata": {},
     "output_type": "execute_result"
    }
   ],
   "source": [
    "df.rain_accumulation.max()"
   ]
  },
  {
   "cell_type": "markdown",
   "metadata": {},
   "source": [
    "So it seems like we removed weird outliers again"
   ]
  },
  {
   "cell_type": "code",
   "execution_count": 43,
   "metadata": {},
   "outputs": [],
   "source": [
    "good_accu = (df.rain_accumulation.notna())\n",
    "zero_accu = (df.rain_accumulation == 0)\n",
    "non_zero_accu = (df.rain_accumulation > 0)"
   ]
  },
  {
   "cell_type": "code",
   "execution_count": 44,
   "metadata": {},
   "outputs": [
    {
     "name": "stdout",
     "output_type": "stream",
     "text": [
      "n good rain obs: 7181\n",
      "n zero rain obs: 5987\n",
      "n non zero rain obs: 1048\n",
      "Percentage of time it rains: 0.14594067678596295\n"
     ]
    }
   ],
   "source": [
    "print(f\"n good rain obs: {good_accu.sum()}\")\n",
    "print(f\"n zero rain obs: {zero_accu.sum()}\")\n",
    "print(f\"n non zero rain obs: {non_zero_accu.sum()}\")\n",
    "print(f\"Percentage of time it rains: {non_zero_accu.sum() / good_accu.sum()}\")"
   ]
  },
  {
   "cell_type": "markdown",
   "metadata": {},
   "source": [
    "So after removing the observations corresponding to bad rain duration observations the data looks much better. \n",
    "Worth noting is that there is 341 observations where it has rained but the rain accumulation is 0. This could entirely plausible if the station can detect such weak rain that the accumulation over an hour is less than 0.01 mm - this correspond to less than 0.01 liter pr. square meter, I don't know if this is likely."
   ]
  },
  {
   "cell_type": "code",
   "execution_count": 45,
   "metadata": {},
   "outputs": [
    {
     "name": "stdout",
     "output_type": "stream",
     "text": [
      "Average rain duration of normal raining obs: 33.65417884089273\n",
      "Average rain duration of no accumulation raining obs: 0.6280695014662756\n",
      "Average rain intensity of normal raining obs: 4.596588729285616\n",
      "Average rain intensity of no accumulation raining obs: 0.000405692082111437\n"
     ]
    }
   ],
   "source": [
    "print(f\"Average rain duration of normal raining obs: {df.rain_duration[non_zero_rain].mean()}\")\n",
    "print(f\"Average rain duration of no accumulation raining obs: {df.rain_duration[non_zero_rain & ~non_zero_accu].mean()}\")\n",
    "\n",
    "print(f\"Average rain intensity of normal raining obs: {df.rain_intensity[good_rain].mean()}\")\n",
    "print(f\"Average rain intensity of no accumulation raining obs: {df.rain_intensity[non_zero_rain & ~non_zero_accu].mean()}\")"
   ]
  },
  {
   "cell_type": "markdown",
   "metadata": {},
   "source": [
    "So we can see that when it rains without any measured accumulation its because on average it rains less and less intensely at those observations - seems right."
   ]
  },
  {
   "cell_type": "markdown",
   "metadata": {},
   "source": [
    "# Rain intensity"
   ]
  },
  {
   "cell_type": "code",
   "execution_count": 46,
   "metadata": {},
   "outputs": [
    {
     "data": {
      "text/plain": [
       "<matplotlib.axes._subplots.AxesSubplot at 0x7f9d702a2518>"
      ]
     },
     "execution_count": 46,
     "metadata": {},
     "output_type": "execute_result"
    },
    {
     "data": {
      "image/png": "[encoded data removed]",
      "text/plain": [
       "<Figure size 432x288 with 1 Axes>"
      ]
     },
     "metadata": {
      "needs_background": "light"
     },
     "output_type": "display_data"
    }
   ],
   "source": [
    "df.rain_intensity.plot(kind='hist', bins=100)"
   ]
  },
  {
   "cell_type": "code",
   "execution_count": 47,
   "metadata": {},
   "outputs": [
    {
     "data": {
      "text/plain": [
       "1028.0"
      ]
     },
     "execution_count": 47,
     "metadata": {},
     "output_type": "execute_result"
    }
   ],
   "source": [
    "df.rain_intensity.max()"
   ]
  },
  {
   "cell_type": "markdown",
   "metadata": {},
   "source": [
    "We again have the same problem, so we try te same fix"
   ]
  },
  {
   "cell_type": "code",
   "execution_count": 48,
   "metadata": {},
   "outputs": [
    {
     "name": "stderr",
     "output_type": "stream",
     "text": [
      "/home/mathias/Dropbox/Uni/Speciale/code/nf-env/lib/python3.6/site-packages/ipykernel_launcher.py:1: SettingWithCopyWarning: \n",
      "A value is trying to be set on a copy of a slice from a DataFrame\n",
      "\n",
      "See the caveats in the documentation: https://pandas.pydata.org/pandas-docs/stable/user_guide/indexing.html#returning-a-view-versus-a-copy\n",
      "  \"\"\"Entry point for launching an IPython kernel.\n"
     ]
    }
   ],
   "source": [
    "df.rain_intensity[~good_rain] = np.NaN"
   ]
  },
  {
   "cell_type": "code",
   "execution_count": 49,
   "metadata": {},
   "outputs": [
    {
     "data": {
      "text/plain": [
       "<matplotlib.axes._subplots.AxesSubplot at 0x7f9d700b4080>"
      ]
     },
     "execution_count": 49,
     "metadata": {},
     "output_type": "execute_result"
    },
    {
     "data": {
      "image/png": "[encoded data removed]",
      "text/plain": [
       "<Figure size 432x288 with 1 Axes>"
      ]
     },
     "metadata": {
      "needs_background": "light"
     },
     "output_type": "display_data"
    }
   ],
   "source": [
    "df.rain_intensity.plot(kind='hist', bins=100)"
   ]
  },
  {
   "cell_type": "code",
   "execution_count": 50,
   "metadata": {},
   "outputs": [
    {
     "data": {
      "text/plain": [
       "358.7"
      ]
     },
     "execution_count": 50,
     "metadata": {},
     "output_type": "execute_result"
    }
   ],
   "source": [
    "df.rain_intensity.max()"
   ]
  },
  {
   "cell_type": "markdown",
   "metadata": {},
   "source": [
    "So again the plot seems better. However we get exactly the same value for the maximal rain_duration and rain_intensity. This seems fishy"
   ]
  },
  {
   "cell_type": "code",
   "execution_count": 51,
   "metadata": {},
   "outputs": [
    {
     "data": {
      "text/plain": [
       "0.21814254859611232"
      ]
     },
     "execution_count": 51,
     "metadata": {},
     "output_type": "execute_result"
    }
   ],
   "source": [
    "(df.rain_intensity[non_zero_rain].values == df.rain_duration[non_zero_rain].values).sum() / (non_zero_rain).sum()"
   ]
  },
  {
   "cell_type": "markdown",
   "metadata": {},
   "source": [
    "So for 21% of all the good non-zero observatons the duration and intensity is exacly the same. Seems to systematic to be chance"
   ]
  },
  {
   "cell_type": "code",
   "execution_count": 52,
   "metadata": {},
   "outputs": [
    {
     "data": {
      "text/html": [
       "<div>\n",
       "<style scoped>\n",
       "    .dataframe tbody tr th:only-of-type {\n",
       "        vertical-align: middle;\n",
       "    }\n",
       "\n",
       "    .dataframe tbody tr th {\n",
       "        vertical-align: top;\n",
       "    }\n",
       "\n",
       "    .dataframe thead th {\n",
       "        text-align: right;\n",
       "    }\n",
       "</style>\n",
       "<table border=\"1\" class=\"dataframe\">\n",
       "  <thead>\n",
       "    <tr style=\"text-align: right;\">\n",
       "      <th></th>\n",
       "      <th>Time(utc)</th>\n",
       "      <th>GHI</th>\n",
       "      <th>DHI</th>\n",
       "      <th>DNI</th>\n",
       "      <th>LWD</th>\n",
       "      <th>wind_dir_min</th>\n",
       "      <th>wind_dir_avg</th>\n",
       "      <th>wind_dir_max</th>\n",
       "      <th>wind_speed_min</th>\n",
       "      <th>wind_speed_avg</th>\n",
       "      <th>wind_speed_max</th>\n",
       "      <th>air_temperature</th>\n",
       "      <th>relative_humidity</th>\n",
       "      <th>air_pressure</th>\n",
       "      <th>rain_accumulation</th>\n",
       "      <th>rain_duration</th>\n",
       "      <th>rain_intensity</th>\n",
       "      <th>hail_accumulation</th>\n",
       "      <th>hail_duration</th>\n",
       "      <th>hail_intensity</th>\n",
       "    </tr>\n",
       "  </thead>\n",
       "  <tbody>\n",
       "    <tr>\n",
       "      <th>1515</th>\n",
       "      <td>2018-05-03 03:59:00</td>\n",
       "      <td>1.664</td>\n",
       "      <td>1.727</td>\n",
       "      <td>1.727</td>\n",
       "      <td>1.727</td>\n",
       "      <td>1.727</td>\n",
       "      <td>1.727</td>\n",
       "      <td>1.727</td>\n",
       "      <td>1.727</td>\n",
       "      <td>1.727</td>\n",
       "      <td>1.727</td>\n",
       "      <td>1.727</td>\n",
       "      <td>1.727</td>\n",
       "      <td>1.727</td>\n",
       "      <td>103.6</td>\n",
       "      <td>1.727</td>\n",
       "      <td>1.727</td>\n",
       "      <td>103.6</td>\n",
       "      <td>1.727</td>\n",
       "      <td>1.727</td>\n",
       "    </tr>\n",
       "    <tr>\n",
       "      <th>1516</th>\n",
       "      <td>2018-05-03 04:59:00</td>\n",
       "      <td>9.828</td>\n",
       "      <td>10.080</td>\n",
       "      <td>10.080</td>\n",
       "      <td>10.080</td>\n",
       "      <td>10.080</td>\n",
       "      <td>10.080</td>\n",
       "      <td>10.080</td>\n",
       "      <td>10.080</td>\n",
       "      <td>10.080</td>\n",
       "      <td>10.080</td>\n",
       "      <td>10.080</td>\n",
       "      <td>10.080</td>\n",
       "      <td>10.080</td>\n",
       "      <td>604.5</td>\n",
       "      <td>10.080</td>\n",
       "      <td>10.080</td>\n",
       "      <td>604.5</td>\n",
       "      <td>10.080</td>\n",
       "      <td>10.080</td>\n",
       "    </tr>\n",
       "    <tr>\n",
       "      <th>1517</th>\n",
       "      <td>2018-05-03 05:59:00</td>\n",
       "      <td>63.630</td>\n",
       "      <td>64.910</td>\n",
       "      <td>64.910</td>\n",
       "      <td>64.910</td>\n",
       "      <td>64.910</td>\n",
       "      <td>64.910</td>\n",
       "      <td>64.910</td>\n",
       "      <td>64.910</td>\n",
       "      <td>NaN</td>\n",
       "      <td>64.910</td>\n",
       "      <td>NaN</td>\n",
       "      <td>64.910</td>\n",
       "      <td>64.910</td>\n",
       "      <td>3895.0</td>\n",
       "      <td>64.910</td>\n",
       "      <td>64.910</td>\n",
       "      <td>3895.0</td>\n",
       "      <td>64.910</td>\n",
       "      <td>64.910</td>\n",
       "    </tr>\n",
       "    <tr>\n",
       "      <th>1518</th>\n",
       "      <td>2018-05-03 06:59:00</td>\n",
       "      <td>329.600</td>\n",
       "      <td>130.000</td>\n",
       "      <td>130.000</td>\n",
       "      <td>130.000</td>\n",
       "      <td>130.000</td>\n",
       "      <td>130.000</td>\n",
       "      <td>130.000</td>\n",
       "      <td>130.000</td>\n",
       "      <td>NaN</td>\n",
       "      <td>130.000</td>\n",
       "      <td>NaN</td>\n",
       "      <td>130.000</td>\n",
       "      <td>130.000</td>\n",
       "      <td>7801.0</td>\n",
       "      <td>130.000</td>\n",
       "      <td>130.000</td>\n",
       "      <td>7801.0</td>\n",
       "      <td>130.000</td>\n",
       "      <td>130.000</td>\n",
       "    </tr>\n",
       "    <tr>\n",
       "      <th>1519</th>\n",
       "      <td>2018-05-03 07:59:00</td>\n",
       "      <td>494.100</td>\n",
       "      <td>216.800</td>\n",
       "      <td>216.800</td>\n",
       "      <td>216.800</td>\n",
       "      <td>216.800</td>\n",
       "      <td>216.800</td>\n",
       "      <td>216.800</td>\n",
       "      <td>216.800</td>\n",
       "      <td>NaN</td>\n",
       "      <td>216.800</td>\n",
       "      <td>NaN</td>\n",
       "      <td>216.800</td>\n",
       "      <td>216.800</td>\n",
       "      <td>13010.0</td>\n",
       "      <td>216.800</td>\n",
       "      <td>216.800</td>\n",
       "      <td>13010.0</td>\n",
       "      <td>216.800</td>\n",
       "      <td>216.800</td>\n",
       "    </tr>\n",
       "    <tr>\n",
       "      <th>...</th>\n",
       "      <td>...</td>\n",
       "      <td>...</td>\n",
       "      <td>...</td>\n",
       "      <td>...</td>\n",
       "      <td>...</td>\n",
       "      <td>...</td>\n",
       "      <td>...</td>\n",
       "      <td>...</td>\n",
       "      <td>...</td>\n",
       "      <td>...</td>\n",
       "      <td>...</td>\n",
       "      <td>...</td>\n",
       "      <td>...</td>\n",
       "      <td>...</td>\n",
       "      <td>...</td>\n",
       "      <td>...</td>\n",
       "      <td>...</td>\n",
       "      <td>...</td>\n",
       "      <td>...</td>\n",
       "      <td>...</td>\n",
       "    </tr>\n",
       "    <tr>\n",
       "      <th>1996</th>\n",
       "      <td>2018-05-23 04:59:00</td>\n",
       "      <td>150.500</td>\n",
       "      <td>50.980</td>\n",
       "      <td>50.980</td>\n",
       "      <td>50.980</td>\n",
       "      <td>50.980</td>\n",
       "      <td>50.980</td>\n",
       "      <td>50.980</td>\n",
       "      <td>50.980</td>\n",
       "      <td>NaN</td>\n",
       "      <td>50.980</td>\n",
       "      <td>NaN</td>\n",
       "      <td>50.980</td>\n",
       "      <td>50.980</td>\n",
       "      <td>3059.0</td>\n",
       "      <td>50.980</td>\n",
       "      <td>50.980</td>\n",
       "      <td>3059.0</td>\n",
       "      <td>50.980</td>\n",
       "      <td>50.980</td>\n",
       "    </tr>\n",
       "    <tr>\n",
       "      <th>1997</th>\n",
       "      <td>2018-05-23 05:59:00</td>\n",
       "      <td>283.000</td>\n",
       "      <td>65.930</td>\n",
       "      <td>65.930</td>\n",
       "      <td>65.930</td>\n",
       "      <td>65.930</td>\n",
       "      <td>65.930</td>\n",
       "      <td>65.930</td>\n",
       "      <td>65.930</td>\n",
       "      <td>NaN</td>\n",
       "      <td>65.930</td>\n",
       "      <td>NaN</td>\n",
       "      <td>65.930</td>\n",
       "      <td>65.930</td>\n",
       "      <td>3956.0</td>\n",
       "      <td>65.930</td>\n",
       "      <td>65.930</td>\n",
       "      <td>3956.0</td>\n",
       "      <td>65.930</td>\n",
       "      <td>65.930</td>\n",
       "    </tr>\n",
       "    <tr>\n",
       "      <th>1998</th>\n",
       "      <td>2018-05-23 06:59:00</td>\n",
       "      <td>312.900</td>\n",
       "      <td>121.000</td>\n",
       "      <td>121.000</td>\n",
       "      <td>121.000</td>\n",
       "      <td>121.000</td>\n",
       "      <td>121.000</td>\n",
       "      <td>121.000</td>\n",
       "      <td>121.000</td>\n",
       "      <td>NaN</td>\n",
       "      <td>121.000</td>\n",
       "      <td>NaN</td>\n",
       "      <td>121.000</td>\n",
       "      <td>121.000</td>\n",
       "      <td>7260.0</td>\n",
       "      <td>121.000</td>\n",
       "      <td>121.000</td>\n",
       "      <td>7260.0</td>\n",
       "      <td>121.000</td>\n",
       "      <td>121.000</td>\n",
       "    </tr>\n",
       "    <tr>\n",
       "      <th>1999</th>\n",
       "      <td>2018-05-23 07:59:00</td>\n",
       "      <td>541.700</td>\n",
       "      <td>95.040</td>\n",
       "      <td>95.040</td>\n",
       "      <td>95.040</td>\n",
       "      <td>193.300</td>\n",
       "      <td>188.700</td>\n",
       "      <td>177.900</td>\n",
       "      <td>53.340</td>\n",
       "      <td>NaN</td>\n",
       "      <td>53.820</td>\n",
       "      <td>NaN</td>\n",
       "      <td>72.320</td>\n",
       "      <td>561.000</td>\n",
       "      <td>3140.0</td>\n",
       "      <td>52.340</td>\n",
       "      <td>52.340</td>\n",
       "      <td>3140.0</td>\n",
       "      <td>52.340</td>\n",
       "      <td>52.340</td>\n",
       "    </tr>\n",
       "    <tr>\n",
       "      <th>6009</th>\n",
       "      <td>2018-11-06 09:59:00</td>\n",
       "      <td>205.100</td>\n",
       "      <td>80.730</td>\n",
       "      <td>465.500</td>\n",
       "      <td>465.500</td>\n",
       "      <td>375.300</td>\n",
       "      <td>NaN</td>\n",
       "      <td>398.100</td>\n",
       "      <td>240.500</td>\n",
       "      <td>NaN</td>\n",
       "      <td>241.000</td>\n",
       "      <td>NaN</td>\n",
       "      <td>280.900</td>\n",
       "      <td>758.500</td>\n",
       "      <td>14390.0</td>\n",
       "      <td>239.800</td>\n",
       "      <td>239.800</td>\n",
       "      <td>14390.0</td>\n",
       "      <td>239.800</td>\n",
       "      <td>239.800</td>\n",
       "    </tr>\n",
       "  </tbody>\n",
       "</table>\n",
       "<p>303 rows × 20 columns</p>\n",
       "</div>"
      ],
      "text/plain": [
       "               Time(utc)      GHI      DHI      DNI      LWD  wind_dir_min  \\\n",
       "1515 2018-05-03 03:59:00    1.664    1.727    1.727    1.727         1.727   \n",
       "1516 2018-05-03 04:59:00    9.828   10.080   10.080   10.080        10.080   \n",
       "1517 2018-05-03 05:59:00   63.630   64.910   64.910   64.910        64.910   \n",
       "1518 2018-05-03 06:59:00  329.600  130.000  130.000  130.000       130.000   \n",
       "1519 2018-05-03 07:59:00  494.100  216.800  216.800  216.800       216.800   \n",
       "...                  ...      ...      ...      ...      ...           ...   \n",
       "1996 2018-05-23 04:59:00  150.500   50.980   50.980   50.980        50.980   \n",
       "1997 2018-05-23 05:59:00  283.000   65.930   65.930   65.930        65.930   \n",
       "1998 2018-05-23 06:59:00  312.900  121.000  121.000  121.000       121.000   \n",
       "1999 2018-05-23 07:59:00  541.700   95.040   95.040   95.040       193.300   \n",
       "6009 2018-11-06 09:59:00  205.100   80.730  465.500  465.500       375.300   \n",
       "\n",
       "      wind_dir_avg  wind_dir_max  wind_speed_min  wind_speed_avg  \\\n",
       "1515         1.727         1.727           1.727           1.727   \n",
       "1516        10.080        10.080          10.080          10.080   \n",
       "1517        64.910        64.910          64.910             NaN   \n",
       "1518       130.000       130.000         130.000             NaN   \n",
       "1519       216.800       216.800         216.800             NaN   \n",
       "...            ...           ...             ...             ...   \n",
       "1996        50.980        50.980          50.980             NaN   \n",
       "1997        65.930        65.930          65.930             NaN   \n",
       "1998       121.000       121.000         121.000             NaN   \n",
       "1999       188.700       177.900          53.340             NaN   \n",
       "6009           NaN       398.100         240.500             NaN   \n",
       "\n",
       "      wind_speed_max  air_temperature  relative_humidity  air_pressure  \\\n",
       "1515           1.727            1.727              1.727         1.727   \n",
       "1516          10.080           10.080             10.080        10.080   \n",
       "1517          64.910              NaN             64.910        64.910   \n",
       "1518         130.000              NaN            130.000       130.000   \n",
       "1519         216.800              NaN            216.800       216.800   \n",
       "...              ...              ...                ...           ...   \n",
       "1996          50.980              NaN             50.980        50.980   \n",
       "1997          65.930              NaN             65.930        65.930   \n",
       "1998         121.000              NaN            121.000       121.000   \n",
       "1999          53.820              NaN             72.320       561.000   \n",
       "6009         241.000              NaN            280.900       758.500   \n",
       "\n",
       "      rain_accumulation  rain_duration  rain_intensity  hail_accumulation  \\\n",
       "1515              103.6          1.727           1.727              103.6   \n",
       "1516              604.5         10.080          10.080              604.5   \n",
       "1517             3895.0         64.910          64.910             3895.0   \n",
       "1518             7801.0        130.000         130.000             7801.0   \n",
       "1519            13010.0        216.800         216.800            13010.0   \n",
       "...                 ...            ...             ...                ...   \n",
       "1996             3059.0         50.980          50.980             3059.0   \n",
       "1997             3956.0         65.930          65.930             3956.0   \n",
       "1998             7260.0        121.000         121.000             7260.0   \n",
       "1999             3140.0         52.340          52.340             3140.0   \n",
       "6009            14390.0        239.800         239.800            14390.0   \n",
       "\n",
       "      hail_duration  hail_intensity  \n",
       "1515          1.727           1.727  \n",
       "1516         10.080          10.080  \n",
       "1517         64.910          64.910  \n",
       "1518        130.000         130.000  \n",
       "1519        216.800         216.800  \n",
       "...             ...             ...  \n",
       "1996         50.980          50.980  \n",
       "1997         65.930          65.930  \n",
       "1998        121.000         121.000  \n",
       "1999         52.340          52.340  \n",
       "6009        239.800         239.800  \n",
       "\n",
       "[303 rows x 20 columns]"
      ]
     },
     "execution_count": 52,
     "metadata": {},
     "output_type": "execute_result"
    }
   ],
   "source": [
    "rain_eq_duration = df.rain_intensity[non_zero_rain].values == df.rain_duration[non_zero_rain].values\n",
    "df[non_zero_rain][rain_eq_duration]"
   ]
  },
  {
   "cell_type": "markdown",
   "metadata": {},
   "source": [
    "Looking at this we can see that for alot of observations where the rain duration and intensity is the same in fact all of the observation is the same.\n",
    "I add another check of whether the relative humidity and air pressure is the same - which I believe is really unlikely to happen normally"
   ]
  },
  {
   "cell_type": "code",
   "execution_count": 53,
   "metadata": {},
   "outputs": [
    {
     "data": {
      "text/plain": [
       "array([ True,  True,  True,  True,  True,  True,  True,  True,  True,\n",
       "        True,  True,  True,  True,  True,  True,  True,  True,  True,\n",
       "        True,  True,  True,  True,  True,  True,  True,  True,  True,\n",
       "        True,  True,  True,  True,  True,  True,  True,  True,  True,\n",
       "        True,  True,  True,  True,  True,  True,  True,  True,  True,\n",
       "        True,  True,  True,  True,  True,  True,  True,  True,  True,\n",
       "        True,  True,  True,  True,  True,  True,  True,  True,  True,\n",
       "        True,  True,  True,  True,  True,  True,  True,  True,  True,\n",
       "        True,  True,  True,  True,  True,  True,  True,  True,  True,\n",
       "        True,  True,  True,  True,  True,  True,  True,  True,  True,\n",
       "        True,  True,  True,  True,  True,  True,  True,  True,  True,\n",
       "        True,  True,  True,  True,  True,  True,  True,  True,  True,\n",
       "        True,  True,  True,  True,  True,  True,  True,  True,  True,\n",
       "        True,  True,  True,  True,  True,  True,  True,  True,  True,\n",
       "        True,  True,  True,  True,  True,  True,  True,  True,  True,\n",
       "        True,  True,  True,  True,  True,  True,  True,  True,  True,\n",
       "        True,  True,  True,  True,  True,  True,  True,  True,  True,\n",
       "        True,  True,  True,  True,  True,  True,  True,  True,  True,\n",
       "        True,  True,  True,  True,  True,  True,  True,  True,  True,\n",
       "        True,  True,  True,  True,  True,  True,  True,  True,  True,\n",
       "        True,  True,  True,  True,  True,  True,  True,  True,  True,\n",
       "        True,  True,  True,  True,  True,  True,  True,  True,  True,\n",
       "        True,  True,  True,  True,  True,  True,  True,  True,  True,\n",
       "        True,  True,  True,  True,  True,  True,  True,  True,  True,\n",
       "        True,  True,  True,  True,  True,  True,  True,  True,  True,\n",
       "        True,  True,  True,  True,  True,  True,  True,  True,  True,\n",
       "        True,  True,  True,  True,  True,  True,  True,  True,  True,\n",
       "        True,  True,  True,  True,  True,  True,  True,  True,  True,\n",
       "        True,  True,  True,  True,  True,  True,  True,  True,  True,\n",
       "        True,  True,  True,  True,  True,  True,  True,  True,  True,\n",
       "        True,  True,  True,  True,  True,  True,  True,  True,  True,\n",
       "        True,  True,  True,  True,  True,  True,  True,  True,  True,\n",
       "        True,  True,  True,  True,  True,  True,  True,  True,  True,\n",
       "        True,  True,  True,  True, False, False])"
      ]
     },
     "execution_count": 53,
     "metadata": {},
     "output_type": "execute_result"
    }
   ],
   "source": [
    "humidity_eq_pressure = df.relative_humidity[non_zero_rain][rain_eq_duration].values == df.air_pressure[non_zero_rain][rain_eq_duration].values\n",
    "humidity_eq_pressure"
   ]
  },
  {
   "cell_type": "markdown",
   "metadata": {},
   "source": [
    "As can be seen it is in fact only the last two observations where it's not a completely systematic error.\n",
    "we take a closer look"
   ]
  },
  {
   "cell_type": "code",
   "execution_count": 54,
   "metadata": {},
   "outputs": [
    {
     "data": {
      "text/html": [
       "<div>\n",
       "<style scoped>\n",
       "    .dataframe tbody tr th:only-of-type {\n",
       "        vertical-align: middle;\n",
       "    }\n",
       "\n",
       "    .dataframe tbody tr th {\n",
       "        vertical-align: top;\n",
       "    }\n",
       "\n",
       "    .dataframe thead th {\n",
       "        text-align: right;\n",
       "    }\n",
       "</style>\n",
       "<table border=\"1\" class=\"dataframe\">\n",
       "  <thead>\n",
       "    <tr style=\"text-align: right;\">\n",
       "      <th></th>\n",
       "      <th>Time(utc)</th>\n",
       "      <th>GHI</th>\n",
       "      <th>DHI</th>\n",
       "      <th>DNI</th>\n",
       "      <th>LWD</th>\n",
       "      <th>wind_dir_min</th>\n",
       "      <th>wind_dir_avg</th>\n",
       "      <th>wind_dir_max</th>\n",
       "      <th>wind_speed_min</th>\n",
       "      <th>wind_speed_avg</th>\n",
       "      <th>wind_speed_max</th>\n",
       "      <th>air_temperature</th>\n",
       "      <th>relative_humidity</th>\n",
       "      <th>air_pressure</th>\n",
       "      <th>rain_accumulation</th>\n",
       "      <th>rain_duration</th>\n",
       "      <th>rain_intensity</th>\n",
       "      <th>hail_accumulation</th>\n",
       "      <th>hail_duration</th>\n",
       "      <th>hail_intensity</th>\n",
       "    </tr>\n",
       "  </thead>\n",
       "  <tbody>\n",
       "    <tr>\n",
       "      <th>1999</th>\n",
       "      <td>2018-05-23 07:59:00</td>\n",
       "      <td>541.7</td>\n",
       "      <td>95.04</td>\n",
       "      <td>95.04</td>\n",
       "      <td>95.04</td>\n",
       "      <td>193.3</td>\n",
       "      <td>188.7</td>\n",
       "      <td>177.9</td>\n",
       "      <td>53.34</td>\n",
       "      <td>NaN</td>\n",
       "      <td>53.82</td>\n",
       "      <td>NaN</td>\n",
       "      <td>72.32</td>\n",
       "      <td>561.0</td>\n",
       "      <td>3140.0</td>\n",
       "      <td>52.34</td>\n",
       "      <td>52.34</td>\n",
       "      <td>3140.0</td>\n",
       "      <td>52.34</td>\n",
       "      <td>52.34</td>\n",
       "    </tr>\n",
       "    <tr>\n",
       "      <th>6009</th>\n",
       "      <td>2018-11-06 09:59:00</td>\n",
       "      <td>205.1</td>\n",
       "      <td>80.73</td>\n",
       "      <td>465.50</td>\n",
       "      <td>465.50</td>\n",
       "      <td>375.3</td>\n",
       "      <td>NaN</td>\n",
       "      <td>398.1</td>\n",
       "      <td>240.50</td>\n",
       "      <td>NaN</td>\n",
       "      <td>241.00</td>\n",
       "      <td>NaN</td>\n",
       "      <td>280.90</td>\n",
       "      <td>758.5</td>\n",
       "      <td>14390.0</td>\n",
       "      <td>239.80</td>\n",
       "      <td>239.80</td>\n",
       "      <td>14390.0</td>\n",
       "      <td>239.80</td>\n",
       "      <td>239.80</td>\n",
       "    </tr>\n",
       "  </tbody>\n",
       "</table>\n",
       "</div>"
      ],
      "text/plain": [
       "               Time(utc)    GHI    DHI     DNI     LWD  wind_dir_min  \\\n",
       "1999 2018-05-23 07:59:00  541.7  95.04   95.04   95.04         193.3   \n",
       "6009 2018-11-06 09:59:00  205.1  80.73  465.50  465.50         375.3   \n",
       "\n",
       "      wind_dir_avg  wind_dir_max  wind_speed_min  wind_speed_avg  \\\n",
       "1999         188.7         177.9           53.34             NaN   \n",
       "6009           NaN         398.1          240.50             NaN   \n",
       "\n",
       "      wind_speed_max  air_temperature  relative_humidity  air_pressure  \\\n",
       "1999           53.82              NaN              72.32         561.0   \n",
       "6009          241.00              NaN             280.90         758.5   \n",
       "\n",
       "      rain_accumulation  rain_duration  rain_intensity  hail_accumulation  \\\n",
       "1999             3140.0          52.34           52.34             3140.0   \n",
       "6009            14390.0         239.80          239.80            14390.0   \n",
       "\n",
       "      hail_duration  hail_intensity  \n",
       "1999          52.34           52.34  \n",
       "6009         239.80          239.80  "
      ]
     },
     "execution_count": 54,
     "metadata": {},
     "output_type": "execute_result"
    }
   ],
   "source": [
    "df[non_zero_rain][rain_eq_duration][~humidity_eq_pressure]"
   ]
  },
  {
   "cell_type": "markdown",
   "metadata": {},
   "source": [
    "However we note that for both of these observations both temperature and wind speed has invalidated the observation earlier so we spend no more time on it."
   ]
  },
  {
   "cell_type": "markdown",
   "metadata": {},
   "source": [
    "Out of curiousity we check how many of the observations with the systematic fill has not been caught before."
   ]
  },
  {
   "cell_type": "code",
   "execution_count": 55,
   "metadata": {},
   "outputs": [
    {
     "data": {
      "text/plain": [
       "56"
      ]
     },
     "execution_count": 55,
     "metadata": {},
     "output_type": "execute_result"
    }
   ],
   "source": [
    "len(df[non_zero_rain][rain_eq_duration][humidity_eq_pressure].dropna())"
   ]
  },
  {
   "cell_type": "markdown",
   "metadata": {},
   "source": [
    "Not too many actually.\n",
    "\n",
    "We invalidate the systematic error observations"
   ]
  },
  {
   "cell_type": "code",
   "execution_count": 56,
   "metadata": {},
   "outputs": [
    {
     "data": {
      "text/plain": [
       "Int64Index([1515, 1516, 1517, 1518, 1519, 1520, 1521, 1522, 1524, 1525,\n",
       "            ...\n",
       "            1983, 1984, 1985, 1986, 1987, 1994, 1995, 1996, 1997, 1998],\n",
       "           dtype='int64', length=301)"
      ]
     },
     "execution_count": 56,
     "metadata": {},
     "output_type": "execute_result"
    }
   ],
   "source": [
    "systematic_idx = df[non_zero_rain][rain_eq_duration][humidity_eq_pressure].index\n",
    "systematic_idx"
   ]
  },
  {
   "cell_type": "code",
   "execution_count": 57,
   "metadata": {},
   "outputs": [
    {
     "name": "stderr",
     "output_type": "stream",
     "text": [
      "/home/mathias/Dropbox/Uni/Speciale/code/nf-env/lib/python3.6/site-packages/ipykernel_launcher.py:1: SettingWithCopyWarning: \n",
      "A value is trying to be set on a copy of a slice from a DataFrame\n",
      "\n",
      "See the caveats in the documentation: https://pandas.pydata.org/pandas-docs/stable/user_guide/indexing.html#returning-a-view-versus-a-copy\n",
      "  \"\"\"Entry point for launching an IPython kernel.\n"
     ]
    }
   ],
   "source": [
    "df.rain_intensity[systematic_idx] = np.NaN"
   ]
  },
  {
   "cell_type": "code",
   "execution_count": 58,
   "metadata": {},
   "outputs": [
    {
     "data": {
      "text/html": [
       "<div>\n",
       "<style scoped>\n",
       "    .dataframe tbody tr th:only-of-type {\n",
       "        vertical-align: middle;\n",
       "    }\n",
       "\n",
       "    .dataframe tbody tr th {\n",
       "        vertical-align: top;\n",
       "    }\n",
       "\n",
       "    .dataframe thead th {\n",
       "        text-align: right;\n",
       "    }\n",
       "</style>\n",
       "<table border=\"1\" class=\"dataframe\">\n",
       "  <thead>\n",
       "    <tr style=\"text-align: right;\">\n",
       "      <th></th>\n",
       "      <th>Time(utc)</th>\n",
       "      <th>GHI</th>\n",
       "      <th>DHI</th>\n",
       "      <th>DNI</th>\n",
       "      <th>LWD</th>\n",
       "      <th>wind_dir_min</th>\n",
       "      <th>wind_dir_avg</th>\n",
       "      <th>wind_dir_max</th>\n",
       "      <th>wind_speed_min</th>\n",
       "      <th>wind_speed_avg</th>\n",
       "      <th>wind_speed_max</th>\n",
       "      <th>air_temperature</th>\n",
       "      <th>relative_humidity</th>\n",
       "      <th>air_pressure</th>\n",
       "      <th>rain_accumulation</th>\n",
       "      <th>rain_duration</th>\n",
       "      <th>rain_intensity</th>\n",
       "      <th>hail_accumulation</th>\n",
       "      <th>hail_duration</th>\n",
       "      <th>hail_intensity</th>\n",
       "    </tr>\n",
       "  </thead>\n",
       "  <tbody>\n",
       "    <tr>\n",
       "      <th>1515</th>\n",
       "      <td>2018-05-03 03:59:00</td>\n",
       "      <td>1.6640</td>\n",
       "      <td>1.7270</td>\n",
       "      <td>1.7270</td>\n",
       "      <td>1.7270</td>\n",
       "      <td>1.7270</td>\n",
       "      <td>1.7270</td>\n",
       "      <td>1.7270</td>\n",
       "      <td>1.7270</td>\n",
       "      <td>1.7270</td>\n",
       "      <td>1.7270</td>\n",
       "      <td>1.7270</td>\n",
       "      <td>1.7270</td>\n",
       "      <td>1.7270</td>\n",
       "      <td>103.6</td>\n",
       "      <td>1.7270</td>\n",
       "      <td>NaN</td>\n",
       "      <td>103.6</td>\n",
       "      <td>1.7270</td>\n",
       "      <td>1.7270</td>\n",
       "    </tr>\n",
       "    <tr>\n",
       "      <th>1516</th>\n",
       "      <td>2018-05-03 04:59:00</td>\n",
       "      <td>9.8280</td>\n",
       "      <td>10.0800</td>\n",
       "      <td>10.0800</td>\n",
       "      <td>10.0800</td>\n",
       "      <td>10.0800</td>\n",
       "      <td>10.0800</td>\n",
       "      <td>10.0800</td>\n",
       "      <td>10.0800</td>\n",
       "      <td>10.0800</td>\n",
       "      <td>10.0800</td>\n",
       "      <td>10.0800</td>\n",
       "      <td>10.0800</td>\n",
       "      <td>10.0800</td>\n",
       "      <td>604.5</td>\n",
       "      <td>10.0800</td>\n",
       "      <td>NaN</td>\n",
       "      <td>604.5</td>\n",
       "      <td>10.0800</td>\n",
       "      <td>10.0800</td>\n",
       "    </tr>\n",
       "    <tr>\n",
       "      <th>1517</th>\n",
       "      <td>2018-05-03 05:59:00</td>\n",
       "      <td>63.6300</td>\n",
       "      <td>64.9100</td>\n",
       "      <td>64.9100</td>\n",
       "      <td>64.9100</td>\n",
       "      <td>64.9100</td>\n",
       "      <td>64.9100</td>\n",
       "      <td>64.9100</td>\n",
       "      <td>64.9100</td>\n",
       "      <td>NaN</td>\n",
       "      <td>64.9100</td>\n",
       "      <td>NaN</td>\n",
       "      <td>64.9100</td>\n",
       "      <td>64.9100</td>\n",
       "      <td>3895.0</td>\n",
       "      <td>64.9100</td>\n",
       "      <td>NaN</td>\n",
       "      <td>3895.0</td>\n",
       "      <td>64.9100</td>\n",
       "      <td>64.9100</td>\n",
       "    </tr>\n",
       "    <tr>\n",
       "      <th>1518</th>\n",
       "      <td>2018-05-03 06:59:00</td>\n",
       "      <td>329.6000</td>\n",
       "      <td>130.0000</td>\n",
       "      <td>130.0000</td>\n",
       "      <td>130.0000</td>\n",
       "      <td>130.0000</td>\n",
       "      <td>130.0000</td>\n",
       "      <td>130.0000</td>\n",
       "      <td>130.0000</td>\n",
       "      <td>NaN</td>\n",
       "      <td>130.0000</td>\n",
       "      <td>NaN</td>\n",
       "      <td>130.0000</td>\n",
       "      <td>130.0000</td>\n",
       "      <td>7801.0</td>\n",
       "      <td>130.0000</td>\n",
       "      <td>NaN</td>\n",
       "      <td>7801.0</td>\n",
       "      <td>130.0000</td>\n",
       "      <td>130.0000</td>\n",
       "    </tr>\n",
       "    <tr>\n",
       "      <th>1519</th>\n",
       "      <td>2018-05-03 07:59:00</td>\n",
       "      <td>494.1000</td>\n",
       "      <td>216.8000</td>\n",
       "      <td>216.8000</td>\n",
       "      <td>216.8000</td>\n",
       "      <td>216.8000</td>\n",
       "      <td>216.8000</td>\n",
       "      <td>216.8000</td>\n",
       "      <td>216.8000</td>\n",
       "      <td>NaN</td>\n",
       "      <td>216.8000</td>\n",
       "      <td>NaN</td>\n",
       "      <td>216.8000</td>\n",
       "      <td>216.8000</td>\n",
       "      <td>13010.0</td>\n",
       "      <td>216.8000</td>\n",
       "      <td>NaN</td>\n",
       "      <td>13010.0</td>\n",
       "      <td>216.8000</td>\n",
       "      <td>216.8000</td>\n",
       "    </tr>\n",
       "    <tr>\n",
       "      <th>...</th>\n",
       "      <td>...</td>\n",
       "      <td>...</td>\n",
       "      <td>...</td>\n",
       "      <td>...</td>\n",
       "      <td>...</td>\n",
       "      <td>...</td>\n",
       "      <td>...</td>\n",
       "      <td>...</td>\n",
       "      <td>...</td>\n",
       "      <td>...</td>\n",
       "      <td>...</td>\n",
       "      <td>...</td>\n",
       "      <td>...</td>\n",
       "      <td>...</td>\n",
       "      <td>...</td>\n",
       "      <td>...</td>\n",
       "      <td>...</td>\n",
       "      <td>...</td>\n",
       "      <td>...</td>\n",
       "      <td>...</td>\n",
       "    </tr>\n",
       "    <tr>\n",
       "      <th>1994</th>\n",
       "      <td>2018-05-23 02:59:00</td>\n",
       "      <td>-0.4705</td>\n",
       "      <td>0.1783</td>\n",
       "      <td>0.1783</td>\n",
       "      <td>0.1783</td>\n",
       "      <td>0.1783</td>\n",
       "      <td>0.1783</td>\n",
       "      <td>0.1783</td>\n",
       "      <td>0.1783</td>\n",
       "      <td>0.1783</td>\n",
       "      <td>0.1783</td>\n",
       "      <td>0.1783</td>\n",
       "      <td>0.1783</td>\n",
       "      <td>0.1783</td>\n",
       "      <td>10.7</td>\n",
       "      <td>0.1783</td>\n",
       "      <td>NaN</td>\n",
       "      <td>10.7</td>\n",
       "      <td>0.1783</td>\n",
       "      <td>0.1783</td>\n",
       "    </tr>\n",
       "    <tr>\n",
       "      <th>1995</th>\n",
       "      <td>2018-05-23 03:59:00</td>\n",
       "      <td>42.7200</td>\n",
       "      <td>22.0400</td>\n",
       "      <td>22.0400</td>\n",
       "      <td>22.0400</td>\n",
       "      <td>22.0400</td>\n",
       "      <td>22.0400</td>\n",
       "      <td>22.0400</td>\n",
       "      <td>22.0400</td>\n",
       "      <td>22.0400</td>\n",
       "      <td>22.0400</td>\n",
       "      <td>22.0400</td>\n",
       "      <td>22.0400</td>\n",
       "      <td>22.0400</td>\n",
       "      <td>1323.0</td>\n",
       "      <td>22.0400</td>\n",
       "      <td>NaN</td>\n",
       "      <td>1323.0</td>\n",
       "      <td>22.0400</td>\n",
       "      <td>22.0400</td>\n",
       "    </tr>\n",
       "    <tr>\n",
       "      <th>1996</th>\n",
       "      <td>2018-05-23 04:59:00</td>\n",
       "      <td>150.5000</td>\n",
       "      <td>50.9800</td>\n",
       "      <td>50.9800</td>\n",
       "      <td>50.9800</td>\n",
       "      <td>50.9800</td>\n",
       "      <td>50.9800</td>\n",
       "      <td>50.9800</td>\n",
       "      <td>50.9800</td>\n",
       "      <td>NaN</td>\n",
       "      <td>50.9800</td>\n",
       "      <td>NaN</td>\n",
       "      <td>50.9800</td>\n",
       "      <td>50.9800</td>\n",
       "      <td>3059.0</td>\n",
       "      <td>50.9800</td>\n",
       "      <td>NaN</td>\n",
       "      <td>3059.0</td>\n",
       "      <td>50.9800</td>\n",
       "      <td>50.9800</td>\n",
       "    </tr>\n",
       "    <tr>\n",
       "      <th>1997</th>\n",
       "      <td>2018-05-23 05:59:00</td>\n",
       "      <td>283.0000</td>\n",
       "      <td>65.9300</td>\n",
       "      <td>65.9300</td>\n",
       "      <td>65.9300</td>\n",
       "      <td>65.9300</td>\n",
       "      <td>65.9300</td>\n",
       "      <td>65.9300</td>\n",
       "      <td>65.9300</td>\n",
       "      <td>NaN</td>\n",
       "      <td>65.9300</td>\n",
       "      <td>NaN</td>\n",
       "      <td>65.9300</td>\n",
       "      <td>65.9300</td>\n",
       "      <td>3956.0</td>\n",
       "      <td>65.9300</td>\n",
       "      <td>NaN</td>\n",
       "      <td>3956.0</td>\n",
       "      <td>65.9300</td>\n",
       "      <td>65.9300</td>\n",
       "    </tr>\n",
       "    <tr>\n",
       "      <th>1998</th>\n",
       "      <td>2018-05-23 06:59:00</td>\n",
       "      <td>312.9000</td>\n",
       "      <td>121.0000</td>\n",
       "      <td>121.0000</td>\n",
       "      <td>121.0000</td>\n",
       "      <td>121.0000</td>\n",
       "      <td>121.0000</td>\n",
       "      <td>121.0000</td>\n",
       "      <td>121.0000</td>\n",
       "      <td>NaN</td>\n",
       "      <td>121.0000</td>\n",
       "      <td>NaN</td>\n",
       "      <td>121.0000</td>\n",
       "      <td>121.0000</td>\n",
       "      <td>7260.0</td>\n",
       "      <td>121.0000</td>\n",
       "      <td>NaN</td>\n",
       "      <td>7260.0</td>\n",
       "      <td>121.0000</td>\n",
       "      <td>121.0000</td>\n",
       "    </tr>\n",
       "  </tbody>\n",
       "</table>\n",
       "<p>301 rows × 20 columns</p>\n",
       "</div>"
      ],
      "text/plain": [
       "               Time(utc)       GHI       DHI       DNI       LWD  \\\n",
       "1515 2018-05-03 03:59:00    1.6640    1.7270    1.7270    1.7270   \n",
       "1516 2018-05-03 04:59:00    9.8280   10.0800   10.0800   10.0800   \n",
       "1517 2018-05-03 05:59:00   63.6300   64.9100   64.9100   64.9100   \n",
       "1518 2018-05-03 06:59:00  329.6000  130.0000  130.0000  130.0000   \n",
       "1519 2018-05-03 07:59:00  494.1000  216.8000  216.8000  216.8000   \n",
       "...                  ...       ...       ...       ...       ...   \n",
       "1994 2018-05-23 02:59:00   -0.4705    0.1783    0.1783    0.1783   \n",
       "1995 2018-05-23 03:59:00   42.7200   22.0400   22.0400   22.0400   \n",
       "1996 2018-05-23 04:59:00  150.5000   50.9800   50.9800   50.9800   \n",
       "1997 2018-05-23 05:59:00  283.0000   65.9300   65.9300   65.9300   \n",
       "1998 2018-05-23 06:59:00  312.9000  121.0000  121.0000  121.0000   \n",
       "\n",
       "      wind_dir_min  wind_dir_avg  wind_dir_max  wind_speed_min  \\\n",
       "1515        1.7270        1.7270        1.7270          1.7270   \n",
       "1516       10.0800       10.0800       10.0800         10.0800   \n",
       "1517       64.9100       64.9100       64.9100         64.9100   \n",
       "1518      130.0000      130.0000      130.0000        130.0000   \n",
       "1519      216.8000      216.8000      216.8000        216.8000   \n",
       "...            ...           ...           ...             ...   \n",
       "1994        0.1783        0.1783        0.1783          0.1783   \n",
       "1995       22.0400       22.0400       22.0400         22.0400   \n",
       "1996       50.9800       50.9800       50.9800         50.9800   \n",
       "1997       65.9300       65.9300       65.9300         65.9300   \n",
       "1998      121.0000      121.0000      121.0000        121.0000   \n",
       "\n",
       "      wind_speed_avg  wind_speed_max  air_temperature  relative_humidity  \\\n",
       "1515          1.7270          1.7270           1.7270             1.7270   \n",
       "1516         10.0800         10.0800          10.0800            10.0800   \n",
       "1517             NaN         64.9100              NaN            64.9100   \n",
       "1518             NaN        130.0000              NaN           130.0000   \n",
       "1519             NaN        216.8000              NaN           216.8000   \n",
       "...              ...             ...              ...                ...   \n",
       "1994          0.1783          0.1783           0.1783             0.1783   \n",
       "1995         22.0400         22.0400          22.0400            22.0400   \n",
       "1996             NaN         50.9800              NaN            50.9800   \n",
       "1997             NaN         65.9300              NaN            65.9300   \n",
       "1998             NaN        121.0000              NaN           121.0000   \n",
       "\n",
       "      air_pressure  rain_accumulation  rain_duration  rain_intensity  \\\n",
       "1515        1.7270              103.6         1.7270             NaN   \n",
       "1516       10.0800              604.5        10.0800             NaN   \n",
       "1517       64.9100             3895.0        64.9100             NaN   \n",
       "1518      130.0000             7801.0       130.0000             NaN   \n",
       "1519      216.8000            13010.0       216.8000             NaN   \n",
       "...            ...                ...            ...             ...   \n",
       "1994        0.1783               10.7         0.1783             NaN   \n",
       "1995       22.0400             1323.0        22.0400             NaN   \n",
       "1996       50.9800             3059.0        50.9800             NaN   \n",
       "1997       65.9300             3956.0        65.9300             NaN   \n",
       "1998      121.0000             7260.0       121.0000             NaN   \n",
       "\n",
       "      hail_accumulation  hail_duration  hail_intensity  \n",
       "1515              103.6         1.7270          1.7270  \n",
       "1516              604.5        10.0800         10.0800  \n",
       "1517             3895.0        64.9100         64.9100  \n",
       "1518             7801.0       130.0000        130.0000  \n",
       "1519            13010.0       216.8000        216.8000  \n",
       "...                 ...            ...             ...  \n",
       "1994               10.7         0.1783          0.1783  \n",
       "1995             1323.0        22.0400         22.0400  \n",
       "1996             3059.0        50.9800         50.9800  \n",
       "1997             3956.0        65.9300         65.9300  \n",
       "1998             7260.0       121.0000        121.0000  \n",
       "\n",
       "[301 rows x 20 columns]"
      ]
     },
     "execution_count": 58,
     "metadata": {},
     "output_type": "execute_result"
    }
   ],
   "source": [
    "df[non_zero_rain][rain_eq_duration][humidity_eq_pressure]"
   ]
  },
  {
   "cell_type": "markdown",
   "metadata": {},
   "source": [
    "## Hail obs"
   ]
  },
  {
   "cell_type": "code",
   "execution_count": 59,
   "metadata": {},
   "outputs": [
    {
     "data": {
      "text/plain": [
       "<matplotlib.axes._subplots.AxesSubplot at 0x7f9d6ff3ec88>"
      ]
     },
     "execution_count": 59,
     "metadata": {},
     "output_type": "execute_result"
    },
    {
     "data": {
      "image/png": "[encoded data removed]",
      "text/plain": [
       "<Figure size 432x288 with 1 Axes>"
      ]
     },
     "metadata": {
      "needs_background": "light"
     },
     "output_type": "display_data"
    }
   ],
   "source": [
    "df.hail_accumulation.plot(kind='hist', bins=100)"
   ]
  },
  {
   "cell_type": "code",
   "execution_count": 60,
   "metadata": {},
   "outputs": [
    {
     "data": {
      "text/plain": [
       "<matplotlib.axes._subplots.AxesSubplot at 0x7f9d6fe63630>"
      ]
     },
     "execution_count": 60,
     "metadata": {},
     "output_type": "execute_result"
    },
    {
     "data": {
      "image/png": "[encoded data removed]",
      "text/plain": [
       "<Figure size 432x288 with 1 Axes>"
      ]
     },
     "metadata": {
      "needs_background": "light"
     },
     "output_type": "display_data"
    }
   ],
   "source": [
    "df.hail_intensity.plot(kind='hist', bins=100)"
   ]
  },
  {
   "cell_type": "code",
   "execution_count": 61,
   "metadata": {},
   "outputs": [
    {
     "data": {
      "text/plain": [
       "<matplotlib.axes._subplots.AxesSubplot at 0x7f9d6ffa5940>"
      ]
     },
     "execution_count": 61,
     "metadata": {},
     "output_type": "execute_result"
    },
    {
     "data": {
      "image/png": "[encoded data removed]",
      "text/plain": [
       "<Figure size 432x288 with 1 Axes>"
      ]
     },
     "metadata": {
      "needs_background": "light"
     },
     "output_type": "display_data"
    }
   ],
   "source": [
    "df.hail_duration.plot(kind='hist', bins=100)"
   ]
  },
  {
   "cell_type": "markdown",
   "metadata": {},
   "source": [
    "So hail seems to have same problem as rainfall. So we will remove NaN (bad observations) first"
   ]
  },
  {
   "cell_type": "markdown",
   "metadata": {},
   "source": [
    "# Removing NaN rows to see if it helps with rain and hail"
   ]
  },
  {
   "cell_type": "code",
   "execution_count": 62,
   "metadata": {},
   "outputs": [],
   "source": [
    "no_nan_df = df.dropna()"
   ]
  },
  {
   "cell_type": "code",
   "execution_count": 63,
   "metadata": {},
   "outputs": [
    {
     "data": {
      "text/plain": [
       "3"
      ]
     },
     "execution_count": 63,
     "metadata": {},
     "output_type": "execute_result"
    }
   ],
   "source": [
    "non_zero_hail = no_nan_df.hail_duration > 0\n",
    "(non_zero_hail).sum()"
   ]
  },
  {
   "cell_type": "code",
   "execution_count": 64,
   "metadata": {},
   "outputs": [
    {
     "data": {
      "text/plain": [
       "3"
      ]
     },
     "execution_count": 64,
     "metadata": {},
     "output_type": "execute_result"
    }
   ],
   "source": [
    "(no_nan_df.hail_intensity > 0).sum()"
   ]
  },
  {
   "cell_type": "code",
   "execution_count": 65,
   "metadata": {},
   "outputs": [
    {
     "data": {
      "text/plain": [
       "2"
      ]
     },
     "execution_count": 65,
     "metadata": {},
     "output_type": "execute_result"
    }
   ],
   "source": [
    "(no_nan_df.hail_accumulation > 0).sum()"
   ]
  },
  {
   "cell_type": "markdown",
   "metadata": {},
   "source": [
    "So after removing bad observations we only have 3 observations of hail left. I don't now how often it hails but it seems like quite low."
   ]
  },
  {
   "cell_type": "markdown",
   "metadata": {},
   "source": [
    "## Cleaned data recap"
   ]
  },
  {
   "cell_type": "markdown",
   "metadata": {},
   "source": [
    "So after cleaning the data we have this data left:"
   ]
  },
  {
   "cell_type": "code",
   "execution_count": 66,
   "metadata": {},
   "outputs": [
    {
     "data": {
      "text/html": [
       "<div>\n",
       "<style scoped>\n",
       "    .dataframe tbody tr th:only-of-type {\n",
       "        vertical-align: middle;\n",
       "    }\n",
       "\n",
       "    .dataframe tbody tr th {\n",
       "        vertical-align: top;\n",
       "    }\n",
       "\n",
       "    .dataframe thead th {\n",
       "        text-align: right;\n",
       "    }\n",
       "</style>\n",
       "<table border=\"1\" class=\"dataframe\">\n",
       "  <thead>\n",
       "    <tr style=\"text-align: right;\">\n",
       "      <th></th>\n",
       "      <th>Time(utc)</th>\n",
       "      <th>GHI</th>\n",
       "      <th>DHI</th>\n",
       "      <th>DNI</th>\n",
       "      <th>LWD</th>\n",
       "      <th>wind_dir_min</th>\n",
       "      <th>wind_dir_avg</th>\n",
       "      <th>wind_dir_max</th>\n",
       "      <th>wind_speed_min</th>\n",
       "      <th>wind_speed_avg</th>\n",
       "      <th>wind_speed_max</th>\n",
       "      <th>air_temperature</th>\n",
       "      <th>relative_humidity</th>\n",
       "      <th>air_pressure</th>\n",
       "      <th>rain_accumulation</th>\n",
       "      <th>rain_duration</th>\n",
       "      <th>rain_intensity</th>\n",
       "      <th>hail_accumulation</th>\n",
       "      <th>hail_duration</th>\n",
       "      <th>hail_intensity</th>\n",
       "    </tr>\n",
       "  </thead>\n",
       "  <tbody>\n",
       "    <tr>\n",
       "      <th>0</th>\n",
       "      <td>2018-03-01 00:59:00</td>\n",
       "      <td>-0.7824</td>\n",
       "      <td>-0.6311</td>\n",
       "      <td>-0.06106</td>\n",
       "      <td>-0.06106</td>\n",
       "      <td>62.08</td>\n",
       "      <td>68.27</td>\n",
       "      <td>82.40</td>\n",
       "      <td>4.128</td>\n",
       "      <td>5.007</td>\n",
       "      <td>5.875</td>\n",
       "      <td>-7.100</td>\n",
       "      <td>63.04</td>\n",
       "      <td>1026.0</td>\n",
       "      <td>0.00</td>\n",
       "      <td>0.6667</td>\n",
       "      <td>0.0</td>\n",
       "      <td>0.0</td>\n",
       "      <td>0.0</td>\n",
       "      <td>0.0</td>\n",
       "    </tr>\n",
       "    <tr>\n",
       "      <th>1</th>\n",
       "      <td>2018-03-01 01:59:00</td>\n",
       "      <td>-0.8079</td>\n",
       "      <td>-0.6177</td>\n",
       "      <td>-0.05233</td>\n",
       "      <td>-0.05233</td>\n",
       "      <td>58.53</td>\n",
       "      <td>59.42</td>\n",
       "      <td>72.42</td>\n",
       "      <td>3.227</td>\n",
       "      <td>3.853</td>\n",
       "      <td>4.550</td>\n",
       "      <td>-6.890</td>\n",
       "      <td>62.67</td>\n",
       "      <td>1025.0</td>\n",
       "      <td>0.00</td>\n",
       "      <td>0.3333</td>\n",
       "      <td>0.0</td>\n",
       "      <td>0.0</td>\n",
       "      <td>0.0</td>\n",
       "      <td>0.0</td>\n",
       "    </tr>\n",
       "    <tr>\n",
       "      <th>2</th>\n",
       "      <td>2018-03-01 02:59:00</td>\n",
       "      <td>-0.7279</td>\n",
       "      <td>-0.5249</td>\n",
       "      <td>-0.07558</td>\n",
       "      <td>-0.07558</td>\n",
       "      <td>50.57</td>\n",
       "      <td>57.02</td>\n",
       "      <td>69.92</td>\n",
       "      <td>4.343</td>\n",
       "      <td>5.310</td>\n",
       "      <td>6.228</td>\n",
       "      <td>-6.943</td>\n",
       "      <td>64.67</td>\n",
       "      <td>1024.0</td>\n",
       "      <td>0.00</td>\n",
       "      <td>2.3330</td>\n",
       "      <td>0.0</td>\n",
       "      <td>0.0</td>\n",
       "      <td>0.0</td>\n",
       "      <td>0.0</td>\n",
       "    </tr>\n",
       "    <tr>\n",
       "      <th>3</th>\n",
       "      <td>2018-03-01 03:59:00</td>\n",
       "      <td>-0.7625</td>\n",
       "      <td>-0.5708</td>\n",
       "      <td>-0.08724</td>\n",
       "      <td>-0.08724</td>\n",
       "      <td>45.35</td>\n",
       "      <td>55.90</td>\n",
       "      <td>66.38</td>\n",
       "      <td>4.475</td>\n",
       "      <td>5.318</td>\n",
       "      <td>6.150</td>\n",
       "      <td>-7.422</td>\n",
       "      <td>68.67</td>\n",
       "      <td>1024.0</td>\n",
       "      <td>0.01</td>\n",
       "      <td>1.5000</td>\n",
       "      <td>0.0</td>\n",
       "      <td>0.0</td>\n",
       "      <td>0.0</td>\n",
       "      <td>0.0</td>\n",
       "    </tr>\n",
       "    <tr>\n",
       "      <th>4</th>\n",
       "      <td>2018-03-01 04:59:00</td>\n",
       "      <td>-0.9691</td>\n",
       "      <td>-0.7296</td>\n",
       "      <td>-0.12870</td>\n",
       "      <td>-0.12870</td>\n",
       "      <td>66.67</td>\n",
       "      <td>58.07</td>\n",
       "      <td>67.82</td>\n",
       "      <td>3.125</td>\n",
       "      <td>3.933</td>\n",
       "      <td>4.758</td>\n",
       "      <td>-7.898</td>\n",
       "      <td>69.88</td>\n",
       "      <td>1023.0</td>\n",
       "      <td>0.00</td>\n",
       "      <td>0.8333</td>\n",
       "      <td>0.0</td>\n",
       "      <td>0.0</td>\n",
       "      <td>0.0</td>\n",
       "      <td>0.0</td>\n",
       "    </tr>\n",
       "    <tr>\n",
       "      <th>...</th>\n",
       "      <td>...</td>\n",
       "      <td>...</td>\n",
       "      <td>...</td>\n",
       "      <td>...</td>\n",
       "      <td>...</td>\n",
       "      <td>...</td>\n",
       "      <td>...</td>\n",
       "      <td>...</td>\n",
       "      <td>...</td>\n",
       "      <td>...</td>\n",
       "      <td>...</td>\n",
       "      <td>...</td>\n",
       "      <td>...</td>\n",
       "      <td>...</td>\n",
       "      <td>...</td>\n",
       "      <td>...</td>\n",
       "      <td>...</td>\n",
       "      <td>...</td>\n",
       "      <td>...</td>\n",
       "      <td>...</td>\n",
       "    </tr>\n",
       "    <tr>\n",
       "      <th>9235</th>\n",
       "      <td>2019-03-20 19:59:00</td>\n",
       "      <td>-2.1090</td>\n",
       "      <td>-2.1980</td>\n",
       "      <td>-0.71480</td>\n",
       "      <td>269.70000</td>\n",
       "      <td>259.60</td>\n",
       "      <td>271.60</td>\n",
       "      <td>281.70</td>\n",
       "      <td>1.788</td>\n",
       "      <td>2.172</td>\n",
       "      <td>2.518</td>\n",
       "      <td>6.898</td>\n",
       "      <td>89.26</td>\n",
       "      <td>1022.0</td>\n",
       "      <td>0.00</td>\n",
       "      <td>0.0000</td>\n",
       "      <td>0.0</td>\n",
       "      <td>0.0</td>\n",
       "      <td>0.0</td>\n",
       "      <td>0.0</td>\n",
       "    </tr>\n",
       "    <tr>\n",
       "      <th>9236</th>\n",
       "      <td>2019-03-20 20:59:00</td>\n",
       "      <td>-1.2170</td>\n",
       "      <td>-1.2990</td>\n",
       "      <td>-0.42830</td>\n",
       "      <td>301.10000</td>\n",
       "      <td>261.60</td>\n",
       "      <td>274.00</td>\n",
       "      <td>285.50</td>\n",
       "      <td>1.818</td>\n",
       "      <td>2.187</td>\n",
       "      <td>2.587</td>\n",
       "      <td>6.580</td>\n",
       "      <td>90.70</td>\n",
       "      <td>1022.0</td>\n",
       "      <td>0.00</td>\n",
       "      <td>0.0000</td>\n",
       "      <td>0.0</td>\n",
       "      <td>0.0</td>\n",
       "      <td>0.0</td>\n",
       "      <td>0.0</td>\n",
       "    </tr>\n",
       "    <tr>\n",
       "      <th>9237</th>\n",
       "      <td>2019-03-20 21:59:00</td>\n",
       "      <td>-1.0540</td>\n",
       "      <td>-1.0980</td>\n",
       "      <td>-0.37440</td>\n",
       "      <td>307.50000</td>\n",
       "      <td>253.10</td>\n",
       "      <td>265.20</td>\n",
       "      <td>277.50</td>\n",
       "      <td>2.313</td>\n",
       "      <td>2.837</td>\n",
       "      <td>3.332</td>\n",
       "      <td>6.375</td>\n",
       "      <td>90.95</td>\n",
       "      <td>1023.0</td>\n",
       "      <td>0.00</td>\n",
       "      <td>0.0000</td>\n",
       "      <td>0.0</td>\n",
       "      <td>0.0</td>\n",
       "      <td>0.0</td>\n",
       "      <td>0.0</td>\n",
       "    </tr>\n",
       "    <tr>\n",
       "      <th>9238</th>\n",
       "      <td>2019-03-20 22:59:00</td>\n",
       "      <td>-0.4087</td>\n",
       "      <td>-0.4064</td>\n",
       "      <td>0.01380</td>\n",
       "      <td>339.90000</td>\n",
       "      <td>249.20</td>\n",
       "      <td>257.50</td>\n",
       "      <td>265.90</td>\n",
       "      <td>2.695</td>\n",
       "      <td>3.117</td>\n",
       "      <td>3.560</td>\n",
       "      <td>6.328</td>\n",
       "      <td>91.29</td>\n",
       "      <td>1023.0</td>\n",
       "      <td>0.00</td>\n",
       "      <td>0.0000</td>\n",
       "      <td>0.0</td>\n",
       "      <td>0.0</td>\n",
       "      <td>0.0</td>\n",
       "      <td>0.0</td>\n",
       "    </tr>\n",
       "    <tr>\n",
       "      <th>9239</th>\n",
       "      <td>2019-03-20 23:59:00</td>\n",
       "      <td>-0.4913</td>\n",
       "      <td>-0.4883</td>\n",
       "      <td>-0.06306</td>\n",
       "      <td>333.20000</td>\n",
       "      <td>245.80</td>\n",
       "      <td>254.40</td>\n",
       "      <td>263.00</td>\n",
       "      <td>2.357</td>\n",
       "      <td>2.722</td>\n",
       "      <td>3.107</td>\n",
       "      <td>6.253</td>\n",
       "      <td>91.32</td>\n",
       "      <td>1023.0</td>\n",
       "      <td>0.00</td>\n",
       "      <td>0.0000</td>\n",
       "      <td>0.0</td>\n",
       "      <td>0.0</td>\n",
       "      <td>0.0</td>\n",
       "      <td>0.0</td>\n",
       "    </tr>\n",
       "  </tbody>\n",
       "</table>\n",
       "<p>6733 rows × 20 columns</p>\n",
       "</div>"
      ],
      "text/plain": [
       "               Time(utc)     GHI     DHI      DNI        LWD  wind_dir_min  \\\n",
       "0    2018-03-01 00:59:00 -0.7824 -0.6311 -0.06106   -0.06106         62.08   \n",
       "1    2018-03-01 01:59:00 -0.8079 -0.6177 -0.05233   -0.05233         58.53   \n",
       "2    2018-03-01 02:59:00 -0.7279 -0.5249 -0.07558   -0.07558         50.57   \n",
       "3    2018-03-01 03:59:00 -0.7625 -0.5708 -0.08724   -0.08724         45.35   \n",
       "4    2018-03-01 04:59:00 -0.9691 -0.7296 -0.12870   -0.12870         66.67   \n",
       "...                  ...     ...     ...      ...        ...           ...   \n",
       "9235 2019-03-20 19:59:00 -2.1090 -2.1980 -0.71480  269.70000        259.60   \n",
       "9236 2019-03-20 20:59:00 -1.2170 -1.2990 -0.42830  301.10000        261.60   \n",
       "9237 2019-03-20 21:59:00 -1.0540 -1.0980 -0.37440  307.50000        253.10   \n",
       "9238 2019-03-20 22:59:00 -0.4087 -0.4064  0.01380  339.90000        249.20   \n",
       "9239 2019-03-20 23:59:00 -0.4913 -0.4883 -0.06306  333.20000        245.80   \n",
       "\n",
       "      wind_dir_avg  wind_dir_max  wind_speed_min  wind_speed_avg  \\\n",
       "0            68.27         82.40           4.128           5.007   \n",
       "1            59.42         72.42           3.227           3.853   \n",
       "2            57.02         69.92           4.343           5.310   \n",
       "3            55.90         66.38           4.475           5.318   \n",
       "4            58.07         67.82           3.125           3.933   \n",
       "...            ...           ...             ...             ...   \n",
       "9235        271.60        281.70           1.788           2.172   \n",
       "9236        274.00        285.50           1.818           2.187   \n",
       "9237        265.20        277.50           2.313           2.837   \n",
       "9238        257.50        265.90           2.695           3.117   \n",
       "9239        254.40        263.00           2.357           2.722   \n",
       "\n",
       "      wind_speed_max  air_temperature  relative_humidity  air_pressure  \\\n",
       "0              5.875           -7.100              63.04        1026.0   \n",
       "1              4.550           -6.890              62.67        1025.0   \n",
       "2              6.228           -6.943              64.67        1024.0   \n",
       "3              6.150           -7.422              68.67        1024.0   \n",
       "4              4.758           -7.898              69.88        1023.0   \n",
       "...              ...              ...                ...           ...   \n",
       "9235           2.518            6.898              89.26        1022.0   \n",
       "9236           2.587            6.580              90.70        1022.0   \n",
       "9237           3.332            6.375              90.95        1023.0   \n",
       "9238           3.560            6.328              91.29        1023.0   \n",
       "9239           3.107            6.253              91.32        1023.0   \n",
       "\n",
       "      rain_accumulation  rain_duration  rain_intensity  hail_accumulation  \\\n",
       "0                  0.00         0.6667             0.0                0.0   \n",
       "1                  0.00         0.3333             0.0                0.0   \n",
       "2                  0.00         2.3330             0.0                0.0   \n",
       "3                  0.01         1.5000             0.0                0.0   \n",
       "4                  0.00         0.8333             0.0                0.0   \n",
       "...                 ...            ...             ...                ...   \n",
       "9235               0.00         0.0000             0.0                0.0   \n",
       "9236               0.00         0.0000             0.0                0.0   \n",
       "9237               0.00         0.0000             0.0                0.0   \n",
       "9238               0.00         0.0000             0.0                0.0   \n",
       "9239               0.00         0.0000             0.0                0.0   \n",
       "\n",
       "      hail_duration  hail_intensity  \n",
       "0               0.0             0.0  \n",
       "1               0.0             0.0  \n",
       "2               0.0             0.0  \n",
       "3               0.0             0.0  \n",
       "4               0.0             0.0  \n",
       "...             ...             ...  \n",
       "9235            0.0             0.0  \n",
       "9236            0.0             0.0  \n",
       "9237            0.0             0.0  \n",
       "9238            0.0             0.0  \n",
       "9239            0.0             0.0  \n",
       "\n",
       "[6733 rows x 20 columns]"
      ]
     },
     "execution_count": 66,
     "metadata": {},
     "output_type": "execute_result"
    }
   ],
   "source": [
    "no_nan_df"
   ]
  },
  {
   "cell_type": "markdown",
   "metadata": {},
   "source": [
    "So after the cleaning we have 6733 observations left"
   ]
  },
  {
   "cell_type": "markdown",
   "metadata": {},
   "source": [
    "We will look a bit into if the errors are randomly located or if there is some systematic error that have led to the errors"
   ]
  },
  {
   "cell_type": "code",
   "execution_count": 67,
   "metadata": {},
   "outputs": [],
   "source": [
    "idx = no_nan_df.index\n",
    "shifted_temp_idx1 = idx[:-1]\n",
    "shifted_temp_idx2 = idx[1:]\n",
    "split_idx = (shifted_temp_idx1+1 != shifted_temp_idx2).nonzero()[0]\n",
    "split_idx_arrs = np.split(ary=idx, indices_or_sections = split_idx+1)"
   ]
  },
  {
   "cell_type": "code",
   "execution_count": 68,
   "metadata": {},
   "outputs": [
    {
     "data": {
      "text/plain": [
       "[Int64Index([   0,    1,    2,    3,    4,    5,    6,    7,    8,    9,\n",
       "             ...\n",
       "             1502, 1503, 1504, 1505, 1506, 1507, 1508, 1509, 1510, 1511],\n",
       "            dtype='int64', length=1512),\n",
       " Int64Index([1632, 1633, 1634, 1635, 1636, 1637, 1638, 1639, 1640, 1641, 1642,\n",
       "             1643, 1644, 1645, 1646, 1647, 1648, 1649, 1650, 1651, 1652, 1653,\n",
       "             1654, 1655],\n",
       "            dtype='int64'),\n",
       " Int64Index([2000, 2001, 2002, 2003, 2004, 2005, 2006, 2007, 2008, 2009,\n",
       "             ...\n",
       "             3950, 3951, 3952, 3953, 3954, 3955, 3956, 3957, 3958, 3959],\n",
       "            dtype='int64', length=1960),\n",
       " Int64Index([6000, 6001, 6002, 6003, 6004, 6005, 6006, 6007, 6008], dtype='int64'),\n",
       " Int64Index([6012, 6013, 6014, 6015, 6016, 6017, 6018, 6019, 6020, 6021,\n",
       "             ...\n",
       "             9230, 9231, 9232, 9233, 9234, 9235, 9236, 9237, 9238, 9239],\n",
       "            dtype='int64', length=3228)]"
      ]
     },
     "execution_count": 68,
     "metadata": {},
     "output_type": "execute_result"
    }
   ],
   "source": [
    "split_idx_arrs"
   ]
  },
  {
   "cell_type": "code",
   "execution_count": 69,
   "metadata": {},
   "outputs": [],
   "source": [
    "dates = df['Time(utc)'].values"
   ]
  },
  {
   "cell_type": "code",
   "execution_count": 70,
   "metadata": {},
   "outputs": [
    {
     "name": "stdout",
     "output_type": "stream",
     "text": [
      "From 2018-03-01T00:59:00.000000000(0) to 2018-05-02T23:59:00.000000000(1511) is good \n",
      "\n",
      "From 2018-05-08T00:59:00.000000000(1632) to 2018-05-08T23:59:00.000000000(1655) is good \n",
      "\n",
      "From 2018-05-23T08:59:00.000000000(2000) to 2018-08-12T23:59:00.000000000(3959) is good \n",
      "\n",
      "From 2018-11-06T00:59:00.000000000(6000) to 2018-11-06T08:59:00.000000000(6008) is good \n",
      "\n",
      "From 2018-11-06T12:59:00.000000000(6012) to 2019-03-20T23:59:00.000000000(9239) is good \n",
      "\n"
     ]
    }
   ],
   "source": [
    "for arr in split_idx_arrs:\n",
    "    arr_start = dates[arr[0]]\n",
    "    arr_end = dates[arr[-1]]\n",
    "    print(f\"From {arr_start}({arr[0]}) to {arr_end}({arr[-1]}) is good \\n\")"
   ]
  },
  {
   "cell_type": "code",
   "execution_count": 71,
   "metadata": {},
   "outputs": [
    {
     "name": "stdout",
     "output_type": "stream",
     "text": [
      "1\n",
      "Between 2018-05-02T23:59:00.000000000(1511) and 2018-05-08T00:59:00.000000000(1632) the observations are bad \n",
      "\n",
      "2\n",
      "Between 2018-05-08T23:59:00.000000000(1655) and 2018-05-23T08:59:00.000000000(2000) the observations are bad \n",
      "\n",
      "3\n",
      "Between 2018-08-12T23:59:00.000000000(3959) and 2018-11-06T00:59:00.000000000(6000) the observations are bad \n",
      "\n",
      "4\n",
      "Between 2018-11-06T08:59:00.000000000(6008) and 2018-11-06T12:59:00.000000000(6012) the observations are bad \n",
      "\n"
     ]
    }
   ],
   "source": [
    "for i in range(1, len(split_idx_arrs)):\n",
    "    print(i)\n",
    "    start_idx = split_idx_arrs[i-1][-1]\n",
    "    start_date = dates[start_idx]\n",
    "    \n",
    "    end_idx = split_idx_arrs[i][0]\n",
    "    end_date = dates[end_idx]\n",
    "    print(f\"Between {start_date}({start_idx}) and {end_date}({end_idx}) the observations are bad \\n\")"
   ]
  },
  {
   "cell_type": "markdown",
   "metadata": {},
   "source": [
    "So we have that there is 5 good streaks of observations with 4 streaks of bad observations between them.\n",
    "One of the bad streaks is only 4 observations though.\n",
    "\n",
    "However it is worth noting that we have around 6 + 15 = 21 bad days in May 2018 and a almost 3 bad months from the 12. august to the 6 of november in 2018."
   ]
  },
  {
   "cell_type": "markdown",
   "metadata": {},
   "source": [
    "We will then try to take a look at what the reason for the bad observations are"
   ]
  },
  {
   "cell_type": "code",
   "execution_count": 72,
   "metadata": {},
   "outputs": [],
   "source": [
    "idx_bins = np.zeros(len(df))\n",
    "temp_bins = np.zeros(len(df))\n",
    "bad_rain_bins = np.zeros(len(df))\n",
    "wind_bins = np.zeros(len(df))\n",
    "neg_bins = np.zeros(len(df))\n",
    "systematic_bins = np.zeros(len(df))\n",
    "\n",
    "idx_bins[idx] = 1\n",
    "temp_bins[temp_idx] = 1\n",
    "bad_rain_bins[bad_rain_idx] = 1\n",
    "wind_bins[wind_idx] = 1\n",
    "neg_bins[neg_idx] = 1\n",
    "systematic_bins[systematic_idx] = 1\n"
   ]
  },
  {
   "cell_type": "code",
   "execution_count": 73,
   "metadata": {},
   "outputs": [],
   "source": [
    "xticks_locs = [i*1000 for i in range(10)]\n",
    "xticks_strs = [dates[i] for i in xticks_locs]"
   ]
  },
  {
   "cell_type": "code",
   "execution_count": 74,
   "metadata": {},
   "outputs": [
    {
     "data": {
      "image/png": "[encoded data removed]",
      "text/plain": [
       "<Figure size 4320x720 with 1 Axes>"
      ]
     },
     "metadata": {
      "needs_background": "light"
     },
     "output_type": "display_data"
    }
   ],
   "source": [
    "fig, ax = plt.subplots(figsize = (60,10))\n",
    "plt.ylim(0.99,1.01)\n",
    "plt.scatter(range(len(df)), idx_bins, c='green', alpha=0.5, marker='|', s=100000)\n",
    "plt.scatter(range(len(df)), bad_rain_bins, c='blue', alpha=0.5, marker='|', s=100000)\n",
    "plt.scatter(range(len(df)), systematic_bins, c='purple', alpha=0.1, marker='|', s=100000)\n",
    "plt.scatter(range(len(df)), temp_bins, c='red', alpha=0.1, marker='|', s=100000) \n",
    "plt.scatter(range(len(df)), wind_bins, c='orange', alpha=0.1, marker='|', s=100000)\n",
    "plt.scatter(range(len(df)), neg_bins, c='gold', alpha=0.1, marker='|', s=100000)\n",
    "plt.yticks([])\n",
    "plt.xticks(xticks_locs, xticks_locs)\n",
    "plt.setp(ax.get_xticklabels(), rotation=45, ha=\"right\", rotation_mode=\"anchor\", fontsize=30);"
   ]
  },
  {
   "cell_type": "markdown",
   "metadata": {},
   "source": [
    "So as can be seen on the plot the first big streak of errors from index ~1511 to ~2000 comes from a mixture of errors. Some of the observations have bin removed due to bad temperature measurements, some for bad wind measurements and some for the weird systematic duplication error.\n",
    "\n",
    "However more interesting we can see that the 3 months of errors comes from being bad rain observations. If we take a look at the plot of the rain data before we removed the rain data we can see that the outliers form some nice gaussian looking distribution. This leads me to suspect that perhaps the weather station was functioning in this time period but maybe the settings was setup differently than the rest of the time?"
   ]
  },
  {
   "cell_type": "markdown",
   "metadata": {},
   "source": [
    "## Slightly change the time data so it is easier to match"
   ]
  },
  {
   "cell_type": "code",
   "execution_count": 75,
   "metadata": {},
   "outputs": [
    {
     "name": "stderr",
     "output_type": "stream",
     "text": [
      "/home/mathias/Dropbox/Uni/Speciale/code/nf-env/lib/python3.6/site-packages/ipykernel_launcher.py:1: SettingWithCopyWarning: \n",
      "A value is trying to be set on a copy of a slice from a DataFrame.\n",
      "Try using .loc[row_indexer,col_indexer] = value instead\n",
      "\n",
      "See the caveats in the documentation: https://pandas.pydata.org/pandas-docs/stable/user_guide/indexing.html#returning-a-view-versus-a-copy\n",
      "  \"\"\"Entry point for launching an IPython kernel.\n"
     ]
    }
   ],
   "source": [
    "no_nan_df['Time(utc)'] = no_nan_df['Time(utc)'].dt.ceil('h')"
   ]
  },
  {
   "cell_type": "markdown",
   "metadata": {},
   "source": [
    "# Save results"
   ]
  },
  {
   "cell_type": "code",
   "execution_count": 76,
   "metadata": {},
   "outputs": [],
   "source": [
    "cleaned_file_name = \"CleanedClimateStationData.csv\""
   ]
  },
  {
   "cell_type": "code",
   "execution_count": 77,
   "metadata": {},
   "outputs": [],
   "source": [
    "no_nan_df.to_csv(cleaned_file_name, index=None)"
   ]
  },
  {
   "cell_type": "code",
   "execution_count": null,
   "metadata": {},
   "outputs": [],
   "source": []
  }
 ],
 "metadata": {
  "kernelspec": {
   "display_name": "Python 3",
   "language": "python",
   "name": "python3"
  },
  "language_info": {
   "codemirror_mode": {
    "name": "ipython",
    "version": 3
   },
   "file_extension": ".py",
   "mimetype": "text/x-python",
   "name": "python",
   "nbconvert_exporter": "python",
   "pygments_lexer": "ipython3",
   "version": "3.7.3"
  }
 },
 "nbformat": 4,
 "nbformat_minor": 4
}
